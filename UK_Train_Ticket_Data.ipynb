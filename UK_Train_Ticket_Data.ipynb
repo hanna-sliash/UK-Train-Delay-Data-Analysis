{
  "nbformat": 4,
  "nbformat_minor": 0,
  "metadata": {
    "colab": {
      "provenance": []
    },
    "kernelspec": {
      "name": "python3",
      "display_name": "Python 3"
    },
    "language_info": {
      "name": "python"
    }
  },
  "cells": [
    {
      "cell_type": "markdown",
      "source": [
        "# UK Train data Jan - Apr 2024\n",
        "This mock train ticket data for National Rail in the UK, from Jan to Apr 2024, was provided by Maven Analytics. The dataset was downloaded from here:\n",
        "https://mavenanalytics.io/data-playground?page=3&pageSize=5"
      ],
      "metadata": {
        "id": "t1rl32sqQLLF"
      }
    },
    {
      "cell_type": "code",
      "execution_count": 1,
      "metadata": {
        "id": "H5F1F2gY7WV2"
      },
      "outputs": [],
      "source": [
        "# imprting necessary libraries\n",
        "import pandas as pd\n",
        "import numpy as np\n",
        "import matplotlib.pyplot as plt\n",
        "import seaborn as sns\n",
        "from datetime import datetime"
      ]
    },
    {
      "cell_type": "code",
      "source": [
        "# loading the CSV into a dataframe and checking the basic information about the dataset and datatypes\n",
        "df = pd.read_csv('railway.csv')\n",
        "df.info()"
      ],
      "metadata": {
        "colab": {
          "base_uri": "https://localhost:8080/"
        },
        "id": "0HTIazhx7fHV",
        "outputId": "7e1bbb8e-88ee-451a-d6e6-7044106ea080"
      },
      "execution_count": 2,
      "outputs": [
        {
          "output_type": "stream",
          "name": "stdout",
          "text": [
            "<class 'pandas.core.frame.DataFrame'>\n",
            "RangeIndex: 31653 entries, 0 to 31652\n",
            "Data columns (total 18 columns):\n",
            " #   Column               Non-Null Count  Dtype \n",
            "---  ------               --------------  ----- \n",
            " 0   Transaction ID       31653 non-null  object\n",
            " 1   Date of Purchase     31653 non-null  object\n",
            " 2   Time of Purchase     31653 non-null  object\n",
            " 3   Purchase Type        31653 non-null  object\n",
            " 4   Payment Method       31653 non-null  object\n",
            " 5   Railcard             10735 non-null  object\n",
            " 6   Ticket Class         31653 non-null  object\n",
            " 7   Ticket Type          31653 non-null  object\n",
            " 8   Price                31653 non-null  int64 \n",
            " 9   Departure Station    31653 non-null  object\n",
            " 10  Arrival Destination  31653 non-null  object\n",
            " 11  Date of Journey      31653 non-null  object\n",
            " 12  Departure Time       31653 non-null  object\n",
            " 13  Arrival Time         31653 non-null  object\n",
            " 14  Actual Arrival Time  29773 non-null  object\n",
            " 15  Journey Status       31653 non-null  object\n",
            " 16  Reason for Delay     4172 non-null   object\n",
            " 17  Refund Request       31653 non-null  object\n",
            "dtypes: int64(1), object(17)\n",
            "memory usage: 4.3+ MB\n"
          ]
        }
      ]
    },
    {
      "cell_type": "code",
      "source": [
        "df.shape"
      ],
      "metadata": {
        "colab": {
          "base_uri": "https://localhost:8080/"
        },
        "id": "y-ROotyp7pSD",
        "outputId": "367a0ae1-8785-451b-ebd5-7fdc9bbc8afa"
      },
      "execution_count": 3,
      "outputs": [
        {
          "output_type": "execute_result",
          "data": {
            "text/plain": [
              "(31653, 18)"
            ]
          },
          "metadata": {},
          "execution_count": 3
        }
      ]
    },
    {
      "cell_type": "markdown",
      "source": [
        "The dataset contains **31653 records**.\n",
        "\n",
        "Most fields match the number of records and do not contain non-null values.\n",
        "\n",
        "However, some fields do have nulls.\n",
        "\n",
        "Railcard field has **only 10735** values.\n",
        "\n",
        "Actual Arrival Time has **29773** values.\n",
        "\n",
        "Reason for Delay has **4172** values.\n",
        "\n",
        "Regarding datatypes, times and dates (object) need to be joined into one field and converted into datetime dtype."
      ],
      "metadata": {
        "id": "xRJAZRJc67Ru"
      }
    },
    {
      "cell_type": "code",
      "source": [
        "# taking a look at the dataset\n",
        "df.sample(10)"
      ],
      "metadata": {
        "colab": {
          "base_uri": "https://localhost:8080/",
          "height": 744
        },
        "id": "jdgjs6xim1-V",
        "outputId": "7eac9d8b-bd30-408d-b55d-8984849b9ac2"
      },
      "execution_count": 4,
      "outputs": [
        {
          "output_type": "execute_result",
          "data": {
            "text/plain": [
              "                Transaction ID Date of Purchase Time of Purchase  \\\n",
              "5967   4b694b95-0343-45d8-bc1a       2024-01-23         08:05:56   \n",
              "2658   8e3e6f27-a4b7-40bf-badd       2024-01-11         10:42:19   \n",
              "19117  178049ea-5dde-47d1-876e       2024-03-13         18:03:40   \n",
              "29960  882bd2e2-1411-4dd9-beca       2024-04-24         05:26:47   \n",
              "15722  f5b2c40c-6fdd-4bbf-bc0c       2024-02-27         14:05:52   \n",
              "8062   5df49d6a-7844-4cf0-8471       2024-01-31         01:10:46   \n",
              "23642  5c546738-8b4d-4a12-9706       2024-03-31         02:10:53   \n",
              "30589  6c93bed4-dc9b-4941-aecf       2024-04-26         14:10:16   \n",
              "21691  b93db735-c776-491f-b3b9       2024-03-23         12:07:18   \n",
              "26755  370624c2-12d9-417d-920e       2024-04-12         12:33:56   \n",
              "\n",
              "      Purchase Type Payment Method  Railcard Ticket Class Ticket Type  Price  \\\n",
              "5967         Online    Credit Card  Disabled     Standard     Advance     15   \n",
              "2658         Online    Contactless       NaN     Standard    Off-Peak     12   \n",
              "19117       Station     Debit Card     Adult     Standard     Advance     56   \n",
              "29960        Online    Contactless     Adult     Standard     Advance     23   \n",
              "15722       Station    Credit Card       NaN     Standard     Advance      7   \n",
              "8062        Station    Contactless       NaN  First Class    Off-Peak     78   \n",
              "23642        Online    Contactless       NaN     Standard    Off-Peak     53   \n",
              "30589        Online    Contactless       NaN     Standard    Off-Peak     19   \n",
              "21691        Online    Contactless     Adult     Standard     Advance      2   \n",
              "26755       Station    Credit Card     Adult     Standard    Off-Peak     65   \n",
              "\n",
              "           Departure Station    Arrival Destination Date of Journey  \\\n",
              "5967   Birmingham New Street      London St Pancras      2024-01-24   \n",
              "2658       London St Pancras  Birmingham New Street      2024-01-11   \n",
              "19117  Manchester Piccadilly          London Euston      2024-03-14   \n",
              "29960     London Kings Cross                   York      2024-04-25   \n",
              "15722          London Euston  Birmingham New Street      2024-02-28   \n",
              "8062           London Euston  Birmingham New Street      2024-01-31   \n",
              "23642     London Kings Cross                   York      2024-03-31   \n",
              "30589                Reading      London Paddington      2024-04-26   \n",
              "21691  Manchester Piccadilly  Liverpool Lime Street      2024-03-24   \n",
              "26755      London Paddington  Liverpool Lime Street      2024-04-12   \n",
              "\n",
              "      Departure Time Arrival Time Actual Arrival Time Journey Status  \\\n",
              "5967        06:30:00     07:50:00            07:50:00        On Time   \n",
              "2658        12:00:00     13:20:00            13:20:00        On Time   \n",
              "19117       17:30:00     19:20:00            19:47:00        Delayed   \n",
              "29960       03:45:00     05:35:00            05:35:00        On Time   \n",
              "15722       12:30:00     13:50:00            13:50:00        On Time   \n",
              "8062        23:30:00     00:50:00            00:50:00        On Time   \n",
              "23642       03:30:00     05:20:00            05:20:00        On Time   \n",
              "30589       15:30:00     15:55:00            15:55:00        On Time   \n",
              "21691       10:30:00     11:00:00            11:00:00        On Time   \n",
              "26755       14:00:00     16:30:00            16:30:00        On Time   \n",
              "\n",
              "      Reason for Delay Refund Request  \n",
              "5967               NaN             No  \n",
              "2658               NaN             No  \n",
              "19117  Technical Issue            Yes  \n",
              "29960              NaN             No  \n",
              "15722              NaN             No  \n",
              "8062               NaN             No  \n",
              "23642              NaN             No  \n",
              "30589              NaN             No  \n",
              "21691              NaN             No  \n",
              "26755              NaN             No  "
            ],
            "text/html": [
              "\n",
              "  <div id=\"df-d644d02c-43f9-4413-ba1c-d753caf9b91e\" class=\"colab-df-container\">\n",
              "    <div>\n",
              "<style scoped>\n",
              "    .dataframe tbody tr th:only-of-type {\n",
              "        vertical-align: middle;\n",
              "    }\n",
              "\n",
              "    .dataframe tbody tr th {\n",
              "        vertical-align: top;\n",
              "    }\n",
              "\n",
              "    .dataframe thead th {\n",
              "        text-align: right;\n",
              "    }\n",
              "</style>\n",
              "<table border=\"1\" class=\"dataframe\">\n",
              "  <thead>\n",
              "    <tr style=\"text-align: right;\">\n",
              "      <th></th>\n",
              "      <th>Transaction ID</th>\n",
              "      <th>Date of Purchase</th>\n",
              "      <th>Time of Purchase</th>\n",
              "      <th>Purchase Type</th>\n",
              "      <th>Payment Method</th>\n",
              "      <th>Railcard</th>\n",
              "      <th>Ticket Class</th>\n",
              "      <th>Ticket Type</th>\n",
              "      <th>Price</th>\n",
              "      <th>Departure Station</th>\n",
              "      <th>Arrival Destination</th>\n",
              "      <th>Date of Journey</th>\n",
              "      <th>Departure Time</th>\n",
              "      <th>Arrival Time</th>\n",
              "      <th>Actual Arrival Time</th>\n",
              "      <th>Journey Status</th>\n",
              "      <th>Reason for Delay</th>\n",
              "      <th>Refund Request</th>\n",
              "    </tr>\n",
              "  </thead>\n",
              "  <tbody>\n",
              "    <tr>\n",
              "      <th>5967</th>\n",
              "      <td>4b694b95-0343-45d8-bc1a</td>\n",
              "      <td>2024-01-23</td>\n",
              "      <td>08:05:56</td>\n",
              "      <td>Online</td>\n",
              "      <td>Credit Card</td>\n",
              "      <td>Disabled</td>\n",
              "      <td>Standard</td>\n",
              "      <td>Advance</td>\n",
              "      <td>15</td>\n",
              "      <td>Birmingham New Street</td>\n",
              "      <td>London St Pancras</td>\n",
              "      <td>2024-01-24</td>\n",
              "      <td>06:30:00</td>\n",
              "      <td>07:50:00</td>\n",
              "      <td>07:50:00</td>\n",
              "      <td>On Time</td>\n",
              "      <td>NaN</td>\n",
              "      <td>No</td>\n",
              "    </tr>\n",
              "    <tr>\n",
              "      <th>2658</th>\n",
              "      <td>8e3e6f27-a4b7-40bf-badd</td>\n",
              "      <td>2024-01-11</td>\n",
              "      <td>10:42:19</td>\n",
              "      <td>Online</td>\n",
              "      <td>Contactless</td>\n",
              "      <td>NaN</td>\n",
              "      <td>Standard</td>\n",
              "      <td>Off-Peak</td>\n",
              "      <td>12</td>\n",
              "      <td>London St Pancras</td>\n",
              "      <td>Birmingham New Street</td>\n",
              "      <td>2024-01-11</td>\n",
              "      <td>12:00:00</td>\n",
              "      <td>13:20:00</td>\n",
              "      <td>13:20:00</td>\n",
              "      <td>On Time</td>\n",
              "      <td>NaN</td>\n",
              "      <td>No</td>\n",
              "    </tr>\n",
              "    <tr>\n",
              "      <th>19117</th>\n",
              "      <td>178049ea-5dde-47d1-876e</td>\n",
              "      <td>2024-03-13</td>\n",
              "      <td>18:03:40</td>\n",
              "      <td>Station</td>\n",
              "      <td>Debit Card</td>\n",
              "      <td>Adult</td>\n",
              "      <td>Standard</td>\n",
              "      <td>Advance</td>\n",
              "      <td>56</td>\n",
              "      <td>Manchester Piccadilly</td>\n",
              "      <td>London Euston</td>\n",
              "      <td>2024-03-14</td>\n",
              "      <td>17:30:00</td>\n",
              "      <td>19:20:00</td>\n",
              "      <td>19:47:00</td>\n",
              "      <td>Delayed</td>\n",
              "      <td>Technical Issue</td>\n",
              "      <td>Yes</td>\n",
              "    </tr>\n",
              "    <tr>\n",
              "      <th>29960</th>\n",
              "      <td>882bd2e2-1411-4dd9-beca</td>\n",
              "      <td>2024-04-24</td>\n",
              "      <td>05:26:47</td>\n",
              "      <td>Online</td>\n",
              "      <td>Contactless</td>\n",
              "      <td>Adult</td>\n",
              "      <td>Standard</td>\n",
              "      <td>Advance</td>\n",
              "      <td>23</td>\n",
              "      <td>London Kings Cross</td>\n",
              "      <td>York</td>\n",
              "      <td>2024-04-25</td>\n",
              "      <td>03:45:00</td>\n",
              "      <td>05:35:00</td>\n",
              "      <td>05:35:00</td>\n",
              "      <td>On Time</td>\n",
              "      <td>NaN</td>\n",
              "      <td>No</td>\n",
              "    </tr>\n",
              "    <tr>\n",
              "      <th>15722</th>\n",
              "      <td>f5b2c40c-6fdd-4bbf-bc0c</td>\n",
              "      <td>2024-02-27</td>\n",
              "      <td>14:05:52</td>\n",
              "      <td>Station</td>\n",
              "      <td>Credit Card</td>\n",
              "      <td>NaN</td>\n",
              "      <td>Standard</td>\n",
              "      <td>Advance</td>\n",
              "      <td>7</td>\n",
              "      <td>London Euston</td>\n",
              "      <td>Birmingham New Street</td>\n",
              "      <td>2024-02-28</td>\n",
              "      <td>12:30:00</td>\n",
              "      <td>13:50:00</td>\n",
              "      <td>13:50:00</td>\n",
              "      <td>On Time</td>\n",
              "      <td>NaN</td>\n",
              "      <td>No</td>\n",
              "    </tr>\n",
              "    <tr>\n",
              "      <th>8062</th>\n",
              "      <td>5df49d6a-7844-4cf0-8471</td>\n",
              "      <td>2024-01-31</td>\n",
              "      <td>01:10:46</td>\n",
              "      <td>Station</td>\n",
              "      <td>Contactless</td>\n",
              "      <td>NaN</td>\n",
              "      <td>First Class</td>\n",
              "      <td>Off-Peak</td>\n",
              "      <td>78</td>\n",
              "      <td>London Euston</td>\n",
              "      <td>Birmingham New Street</td>\n",
              "      <td>2024-01-31</td>\n",
              "      <td>23:30:00</td>\n",
              "      <td>00:50:00</td>\n",
              "      <td>00:50:00</td>\n",
              "      <td>On Time</td>\n",
              "      <td>NaN</td>\n",
              "      <td>No</td>\n",
              "    </tr>\n",
              "    <tr>\n",
              "      <th>23642</th>\n",
              "      <td>5c546738-8b4d-4a12-9706</td>\n",
              "      <td>2024-03-31</td>\n",
              "      <td>02:10:53</td>\n",
              "      <td>Online</td>\n",
              "      <td>Contactless</td>\n",
              "      <td>NaN</td>\n",
              "      <td>Standard</td>\n",
              "      <td>Off-Peak</td>\n",
              "      <td>53</td>\n",
              "      <td>London Kings Cross</td>\n",
              "      <td>York</td>\n",
              "      <td>2024-03-31</td>\n",
              "      <td>03:30:00</td>\n",
              "      <td>05:20:00</td>\n",
              "      <td>05:20:00</td>\n",
              "      <td>On Time</td>\n",
              "      <td>NaN</td>\n",
              "      <td>No</td>\n",
              "    </tr>\n",
              "    <tr>\n",
              "      <th>30589</th>\n",
              "      <td>6c93bed4-dc9b-4941-aecf</td>\n",
              "      <td>2024-04-26</td>\n",
              "      <td>14:10:16</td>\n",
              "      <td>Online</td>\n",
              "      <td>Contactless</td>\n",
              "      <td>NaN</td>\n",
              "      <td>Standard</td>\n",
              "      <td>Off-Peak</td>\n",
              "      <td>19</td>\n",
              "      <td>Reading</td>\n",
              "      <td>London Paddington</td>\n",
              "      <td>2024-04-26</td>\n",
              "      <td>15:30:00</td>\n",
              "      <td>15:55:00</td>\n",
              "      <td>15:55:00</td>\n",
              "      <td>On Time</td>\n",
              "      <td>NaN</td>\n",
              "      <td>No</td>\n",
              "    </tr>\n",
              "    <tr>\n",
              "      <th>21691</th>\n",
              "      <td>b93db735-c776-491f-b3b9</td>\n",
              "      <td>2024-03-23</td>\n",
              "      <td>12:07:18</td>\n",
              "      <td>Online</td>\n",
              "      <td>Contactless</td>\n",
              "      <td>Adult</td>\n",
              "      <td>Standard</td>\n",
              "      <td>Advance</td>\n",
              "      <td>2</td>\n",
              "      <td>Manchester Piccadilly</td>\n",
              "      <td>Liverpool Lime Street</td>\n",
              "      <td>2024-03-24</td>\n",
              "      <td>10:30:00</td>\n",
              "      <td>11:00:00</td>\n",
              "      <td>11:00:00</td>\n",
              "      <td>On Time</td>\n",
              "      <td>NaN</td>\n",
              "      <td>No</td>\n",
              "    </tr>\n",
              "    <tr>\n",
              "      <th>26755</th>\n",
              "      <td>370624c2-12d9-417d-920e</td>\n",
              "      <td>2024-04-12</td>\n",
              "      <td>12:33:56</td>\n",
              "      <td>Station</td>\n",
              "      <td>Credit Card</td>\n",
              "      <td>Adult</td>\n",
              "      <td>Standard</td>\n",
              "      <td>Off-Peak</td>\n",
              "      <td>65</td>\n",
              "      <td>London Paddington</td>\n",
              "      <td>Liverpool Lime Street</td>\n",
              "      <td>2024-04-12</td>\n",
              "      <td>14:00:00</td>\n",
              "      <td>16:30:00</td>\n",
              "      <td>16:30:00</td>\n",
              "      <td>On Time</td>\n",
              "      <td>NaN</td>\n",
              "      <td>No</td>\n",
              "    </tr>\n",
              "  </tbody>\n",
              "</table>\n",
              "</div>\n",
              "    <div class=\"colab-df-buttons\">\n",
              "\n",
              "  <div class=\"colab-df-container\">\n",
              "    <button class=\"colab-df-convert\" onclick=\"convertToInteractive('df-d644d02c-43f9-4413-ba1c-d753caf9b91e')\"\n",
              "            title=\"Convert this dataframe to an interactive table.\"\n",
              "            style=\"display:none;\">\n",
              "\n",
              "  <svg xmlns=\"http://www.w3.org/2000/svg\" height=\"24px\" viewBox=\"0 -960 960 960\">\n",
              "    <path d=\"M120-120v-720h720v720H120Zm60-500h600v-160H180v160Zm220 220h160v-160H400v160Zm0 220h160v-160H400v160ZM180-400h160v-160H180v160Zm440 0h160v-160H620v160ZM180-180h160v-160H180v160Zm440 0h160v-160H620v160Z\"/>\n",
              "  </svg>\n",
              "    </button>\n",
              "\n",
              "  <style>\n",
              "    .colab-df-container {\n",
              "      display:flex;\n",
              "      gap: 12px;\n",
              "    }\n",
              "\n",
              "    .colab-df-convert {\n",
              "      background-color: #E8F0FE;\n",
              "      border: none;\n",
              "      border-radius: 50%;\n",
              "      cursor: pointer;\n",
              "      display: none;\n",
              "      fill: #1967D2;\n",
              "      height: 32px;\n",
              "      padding: 0 0 0 0;\n",
              "      width: 32px;\n",
              "    }\n",
              "\n",
              "    .colab-df-convert:hover {\n",
              "      background-color: #E2EBFA;\n",
              "      box-shadow: 0px 1px 2px rgba(60, 64, 67, 0.3), 0px 1px 3px 1px rgba(60, 64, 67, 0.15);\n",
              "      fill: #174EA6;\n",
              "    }\n",
              "\n",
              "    .colab-df-buttons div {\n",
              "      margin-bottom: 4px;\n",
              "    }\n",
              "\n",
              "    [theme=dark] .colab-df-convert {\n",
              "      background-color: #3B4455;\n",
              "      fill: #D2E3FC;\n",
              "    }\n",
              "\n",
              "    [theme=dark] .colab-df-convert:hover {\n",
              "      background-color: #434B5C;\n",
              "      box-shadow: 0px 1px 3px 1px rgba(0, 0, 0, 0.15);\n",
              "      filter: drop-shadow(0px 1px 2px rgba(0, 0, 0, 0.3));\n",
              "      fill: #FFFFFF;\n",
              "    }\n",
              "  </style>\n",
              "\n",
              "    <script>\n",
              "      const buttonEl =\n",
              "        document.querySelector('#df-d644d02c-43f9-4413-ba1c-d753caf9b91e button.colab-df-convert');\n",
              "      buttonEl.style.display =\n",
              "        google.colab.kernel.accessAllowed ? 'block' : 'none';\n",
              "\n",
              "      async function convertToInteractive(key) {\n",
              "        const element = document.querySelector('#df-d644d02c-43f9-4413-ba1c-d753caf9b91e');\n",
              "        const dataTable =\n",
              "          await google.colab.kernel.invokeFunction('convertToInteractive',\n",
              "                                                    [key], {});\n",
              "        if (!dataTable) return;\n",
              "\n",
              "        const docLinkHtml = 'Like what you see? Visit the ' +\n",
              "          '<a target=\"_blank\" href=https://colab.research.google.com/notebooks/data_table.ipynb>data table notebook</a>'\n",
              "          + ' to learn more about interactive tables.';\n",
              "        element.innerHTML = '';\n",
              "        dataTable['output_type'] = 'display_data';\n",
              "        await google.colab.output.renderOutput(dataTable, element);\n",
              "        const docLink = document.createElement('div');\n",
              "        docLink.innerHTML = docLinkHtml;\n",
              "        element.appendChild(docLink);\n",
              "      }\n",
              "    </script>\n",
              "  </div>\n",
              "\n",
              "\n",
              "<div id=\"df-d4008b56-e226-49ec-8803-c1b5023efce2\">\n",
              "  <button class=\"colab-df-quickchart\" onclick=\"quickchart('df-d4008b56-e226-49ec-8803-c1b5023efce2')\"\n",
              "            title=\"Suggest charts\"\n",
              "            style=\"display:none;\">\n",
              "\n",
              "<svg xmlns=\"http://www.w3.org/2000/svg\" height=\"24px\"viewBox=\"0 0 24 24\"\n",
              "     width=\"24px\">\n",
              "    <g>\n",
              "        <path d=\"M19 3H5c-1.1 0-2 .9-2 2v14c0 1.1.9 2 2 2h14c1.1 0 2-.9 2-2V5c0-1.1-.9-2-2-2zM9 17H7v-7h2v7zm4 0h-2V7h2v10zm4 0h-2v-4h2v4z\"/>\n",
              "    </g>\n",
              "</svg>\n",
              "  </button>\n",
              "\n",
              "<style>\n",
              "  .colab-df-quickchart {\n",
              "      --bg-color: #E8F0FE;\n",
              "      --fill-color: #1967D2;\n",
              "      --hover-bg-color: #E2EBFA;\n",
              "      --hover-fill-color: #174EA6;\n",
              "      --disabled-fill-color: #AAA;\n",
              "      --disabled-bg-color: #DDD;\n",
              "  }\n",
              "\n",
              "  [theme=dark] .colab-df-quickchart {\n",
              "      --bg-color: #3B4455;\n",
              "      --fill-color: #D2E3FC;\n",
              "      --hover-bg-color: #434B5C;\n",
              "      --hover-fill-color: #FFFFFF;\n",
              "      --disabled-bg-color: #3B4455;\n",
              "      --disabled-fill-color: #666;\n",
              "  }\n",
              "\n",
              "  .colab-df-quickchart {\n",
              "    background-color: var(--bg-color);\n",
              "    border: none;\n",
              "    border-radius: 50%;\n",
              "    cursor: pointer;\n",
              "    display: none;\n",
              "    fill: var(--fill-color);\n",
              "    height: 32px;\n",
              "    padding: 0;\n",
              "    width: 32px;\n",
              "  }\n",
              "\n",
              "  .colab-df-quickchart:hover {\n",
              "    background-color: var(--hover-bg-color);\n",
              "    box-shadow: 0 1px 2px rgba(60, 64, 67, 0.3), 0 1px 3px 1px rgba(60, 64, 67, 0.15);\n",
              "    fill: var(--button-hover-fill-color);\n",
              "  }\n",
              "\n",
              "  .colab-df-quickchart-complete:disabled,\n",
              "  .colab-df-quickchart-complete:disabled:hover {\n",
              "    background-color: var(--disabled-bg-color);\n",
              "    fill: var(--disabled-fill-color);\n",
              "    box-shadow: none;\n",
              "  }\n",
              "\n",
              "  .colab-df-spinner {\n",
              "    border: 2px solid var(--fill-color);\n",
              "    border-color: transparent;\n",
              "    border-bottom-color: var(--fill-color);\n",
              "    animation:\n",
              "      spin 1s steps(1) infinite;\n",
              "  }\n",
              "\n",
              "  @keyframes spin {\n",
              "    0% {\n",
              "      border-color: transparent;\n",
              "      border-bottom-color: var(--fill-color);\n",
              "      border-left-color: var(--fill-color);\n",
              "    }\n",
              "    20% {\n",
              "      border-color: transparent;\n",
              "      border-left-color: var(--fill-color);\n",
              "      border-top-color: var(--fill-color);\n",
              "    }\n",
              "    30% {\n",
              "      border-color: transparent;\n",
              "      border-left-color: var(--fill-color);\n",
              "      border-top-color: var(--fill-color);\n",
              "      border-right-color: var(--fill-color);\n",
              "    }\n",
              "    40% {\n",
              "      border-color: transparent;\n",
              "      border-right-color: var(--fill-color);\n",
              "      border-top-color: var(--fill-color);\n",
              "    }\n",
              "    60% {\n",
              "      border-color: transparent;\n",
              "      border-right-color: var(--fill-color);\n",
              "    }\n",
              "    80% {\n",
              "      border-color: transparent;\n",
              "      border-right-color: var(--fill-color);\n",
              "      border-bottom-color: var(--fill-color);\n",
              "    }\n",
              "    90% {\n",
              "      border-color: transparent;\n",
              "      border-bottom-color: var(--fill-color);\n",
              "    }\n",
              "  }\n",
              "</style>\n",
              "\n",
              "  <script>\n",
              "    async function quickchart(key) {\n",
              "      const quickchartButtonEl =\n",
              "        document.querySelector('#' + key + ' button');\n",
              "      quickchartButtonEl.disabled = true;  // To prevent multiple clicks.\n",
              "      quickchartButtonEl.classList.add('colab-df-spinner');\n",
              "      try {\n",
              "        const charts = await google.colab.kernel.invokeFunction(\n",
              "            'suggestCharts', [key], {});\n",
              "      } catch (error) {\n",
              "        console.error('Error during call to suggestCharts:', error);\n",
              "      }\n",
              "      quickchartButtonEl.classList.remove('colab-df-spinner');\n",
              "      quickchartButtonEl.classList.add('colab-df-quickchart-complete');\n",
              "    }\n",
              "    (() => {\n",
              "      let quickchartButtonEl =\n",
              "        document.querySelector('#df-d4008b56-e226-49ec-8803-c1b5023efce2 button');\n",
              "      quickchartButtonEl.style.display =\n",
              "        google.colab.kernel.accessAllowed ? 'block' : 'none';\n",
              "    })();\n",
              "  </script>\n",
              "</div>\n",
              "\n",
              "    </div>\n",
              "  </div>\n"
            ],
            "application/vnd.google.colaboratory.intrinsic+json": {
              "type": "dataframe",
              "repr_error": "0"
            }
          },
          "metadata": {},
          "execution_count": 4
        }
      ]
    },
    {
      "cell_type": "code",
      "source": [
        "# checking for unique values in fields that are of \"object\" datatype to see any problems in categorical data\n",
        "df.select_dtypes(include='object').apply(pd.Series.unique)"
      ],
      "metadata": {
        "colab": {
          "base_uri": "https://localhost:8080/",
          "height": 617
        },
        "id": "cG7JSncpp-v8",
        "outputId": "3f16eafd-68d4-4f24-df48-b1361d30eee3"
      },
      "execution_count": 5,
      "outputs": [
        {
          "output_type": "execute_result",
          "data": {
            "text/plain": [
              "Transaction ID         [da8a6ba8-b3dc-4677-b176, b0cdd1b0-f214-4197-b...\n",
              "Date of Purchase       [2023-12-08, 2023-12-16, 2023-12-19, 2023-12-2...\n",
              "Time of Purchase       [12:41:11, 11:23:01, 19:51:27, 23:00:36, 18:22...\n",
              "Purchase Type                                          [Online, Station]\n",
              "Payment Method                    [Contactless, Credit Card, Debit Card]\n",
              "Railcard                                  [Adult, nan, Disabled, Senior]\n",
              "Ticket Class                                     [Standard, First Class]\n",
              "Ticket Type                                 [Advance, Off-Peak, Anytime]\n",
              "Departure Station      [London Paddington, London Kings Cross, Liverp...\n",
              "Arrival Destination    [Liverpool Lime Street, York, Manchester Picca...\n",
              "Date of Journey        [2024-01-01, 2024-01-02, 2024-01-03, 2024-01-0...\n",
              "Departure Time         [11:00:00, 09:45:00, 18:15:00, 21:30:00, 16:45...\n",
              "Arrival Time           [13:30:00, 11:35:00, 18:45:00, 22:30:00, 19:00...\n",
              "Actual Arrival Time    [13:30:00, 11:40:00, 18:45:00, 22:30:00, 19:00...\n",
              "Journey Status                             [On Time, Delayed, Cancelled]\n",
              "Reason for Delay       [nan, Signal Failure, Technical Issue, Weather...\n",
              "Refund Request                                                 [No, Yes]\n",
              "dtype: object"
            ],
            "text/html": [
              "<div>\n",
              "<style scoped>\n",
              "    .dataframe tbody tr th:only-of-type {\n",
              "        vertical-align: middle;\n",
              "    }\n",
              "\n",
              "    .dataframe tbody tr th {\n",
              "        vertical-align: top;\n",
              "    }\n",
              "\n",
              "    .dataframe thead th {\n",
              "        text-align: right;\n",
              "    }\n",
              "</style>\n",
              "<table border=\"1\" class=\"dataframe\">\n",
              "  <thead>\n",
              "    <tr style=\"text-align: right;\">\n",
              "      <th></th>\n",
              "      <th>0</th>\n",
              "    </tr>\n",
              "  </thead>\n",
              "  <tbody>\n",
              "    <tr>\n",
              "      <th>Transaction ID</th>\n",
              "      <td>[da8a6ba8-b3dc-4677-b176, b0cdd1b0-f214-4197-b...</td>\n",
              "    </tr>\n",
              "    <tr>\n",
              "      <th>Date of Purchase</th>\n",
              "      <td>[2023-12-08, 2023-12-16, 2023-12-19, 2023-12-2...</td>\n",
              "    </tr>\n",
              "    <tr>\n",
              "      <th>Time of Purchase</th>\n",
              "      <td>[12:41:11, 11:23:01, 19:51:27, 23:00:36, 18:22...</td>\n",
              "    </tr>\n",
              "    <tr>\n",
              "      <th>Purchase Type</th>\n",
              "      <td>[Online, Station]</td>\n",
              "    </tr>\n",
              "    <tr>\n",
              "      <th>Payment Method</th>\n",
              "      <td>[Contactless, Credit Card, Debit Card]</td>\n",
              "    </tr>\n",
              "    <tr>\n",
              "      <th>Railcard</th>\n",
              "      <td>[Adult, nan, Disabled, Senior]</td>\n",
              "    </tr>\n",
              "    <tr>\n",
              "      <th>Ticket Class</th>\n",
              "      <td>[Standard, First Class]</td>\n",
              "    </tr>\n",
              "    <tr>\n",
              "      <th>Ticket Type</th>\n",
              "      <td>[Advance, Off-Peak, Anytime]</td>\n",
              "    </tr>\n",
              "    <tr>\n",
              "      <th>Departure Station</th>\n",
              "      <td>[London Paddington, London Kings Cross, Liverp...</td>\n",
              "    </tr>\n",
              "    <tr>\n",
              "      <th>Arrival Destination</th>\n",
              "      <td>[Liverpool Lime Street, York, Manchester Picca...</td>\n",
              "    </tr>\n",
              "    <tr>\n",
              "      <th>Date of Journey</th>\n",
              "      <td>[2024-01-01, 2024-01-02, 2024-01-03, 2024-01-0...</td>\n",
              "    </tr>\n",
              "    <tr>\n",
              "      <th>Departure Time</th>\n",
              "      <td>[11:00:00, 09:45:00, 18:15:00, 21:30:00, 16:45...</td>\n",
              "    </tr>\n",
              "    <tr>\n",
              "      <th>Arrival Time</th>\n",
              "      <td>[13:30:00, 11:35:00, 18:45:00, 22:30:00, 19:00...</td>\n",
              "    </tr>\n",
              "    <tr>\n",
              "      <th>Actual Arrival Time</th>\n",
              "      <td>[13:30:00, 11:40:00, 18:45:00, 22:30:00, 19:00...</td>\n",
              "    </tr>\n",
              "    <tr>\n",
              "      <th>Journey Status</th>\n",
              "      <td>[On Time, Delayed, Cancelled]</td>\n",
              "    </tr>\n",
              "    <tr>\n",
              "      <th>Reason for Delay</th>\n",
              "      <td>[nan, Signal Failure, Technical Issue, Weather...</td>\n",
              "    </tr>\n",
              "    <tr>\n",
              "      <th>Refund Request</th>\n",
              "      <td>[No, Yes]</td>\n",
              "    </tr>\n",
              "  </tbody>\n",
              "</table>\n",
              "</div><br><label><b>dtype:</b> object</label>"
            ]
          },
          "metadata": {},
          "execution_count": 5
        }
      ]
    },
    {
      "cell_type": "markdown",
      "source": [
        "The fields Departure Station, Arrival Station and Reason for Delay need to be double checked for any spelling inconsistencies and correct categorisation."
      ],
      "metadata": {
        "id": "G8upWbIwRn6z"
      }
    },
    {
      "cell_type": "markdown",
      "source": [
        "# DATA CLEANING AND TRANSFORMATION STEPS\n",
        "\n",
        "1.   check for duplicate based on the unique field Transaction ID\n",
        "2.   change \"date of purchase\" to date and \"time of purchase\" to **datetime** datatype and create a new column for this datapoint\n",
        "3. the same for \"Date of Journey\", \"Departure Time\", \"Arrival Time\", \"Actual Arrival Time\"\n",
        "4. create a **day of the week column** for travel date and purchase date\n",
        "5. missing \"actual arrival time\" ? --> all fields where this is missing were cancelled journeys\n",
        "6. add a **delay** column that would show length of delay\n",
        "7. create a **route** column to find the most popular routes\n",
        "8. check spelling of station names and reasons for delay are uniform\n",
        "9. Replace 'Yes/No' in 'refund request' column with 1 and 0 respectively\n",
        "10. Nulls in the Railcard column need to be filled with 'No railcard'\n",
        "\n",
        "\n"
      ],
      "metadata": {
        "id": "1lWOZcKWn7FO"
      }
    },
    {
      "cell_type": "code",
      "source": [
        "# checking if there are any duplicates in the dataset\n",
        "duplicates = df[df['Transaction ID'].duplicated(keep=False)]\n",
        "print(duplicates)"
      ],
      "metadata": {
        "colab": {
          "base_uri": "https://localhost:8080/"
        },
        "id": "UbW3VRxx76qp",
        "outputId": "4dc47959-9181-4c82-e9ab-3cf2b5f253b2"
      },
      "execution_count": 6,
      "outputs": [
        {
          "output_type": "stream",
          "name": "stdout",
          "text": [
            "Empty DataFrame\n",
            "Columns: [Transaction ID, Date of Purchase, Time of Purchase, Purchase Type, Payment Method, Railcard, Ticket Class, Ticket Type, Price, Departure Station, Arrival Destination, Date of Journey, Departure Time, Arrival Time, Actual Arrival Time, Journey Status, Reason for Delay, Refund Request]\n",
            "Index: []\n"
          ]
        }
      ]
    },
    {
      "cell_type": "markdown",
      "source": [
        "No duplicates detected in the dataset."
      ],
      "metadata": {
        "id": "MHSYIc78GiM0"
      }
    },
    {
      "cell_type": "code",
      "source": [
        "# create a Datetime column for Purchase in datetime dtype\n",
        "df[\"Purchase datetime\"] = pd.to_datetime(df[\"Date of Purchase\"] + \" \" + df[\"Time of Purchase\"])\n",
        "\n",
        "# create a Datetime column for the actual travel date and time in datetime dtype\n",
        "df[\"Travel datetime\"] = pd.to_datetime(df[\"Date of Journey\"] + \" \" + df[\"Departure Time\"])\n",
        "\n",
        "# create a Datetime for scheduled arrival date\n",
        "df[\"Scheduled arrival datetime\"] = pd.to_datetime(df[\"Date of Journey\"] + \" \" + df[\"Arrival Time\"])\n",
        "\n",
        "# create a datetime for actual arrival date\n",
        "df[\"Actual arrival datetime\"] = pd.to_datetime(df[\"Date of Journey\"] + \" \" + df[\"Actual Arrival Time\"])"
      ],
      "metadata": {
        "id": "kWD_n9axm6iZ"
      },
      "execution_count": 7,
      "outputs": []
    },
    {
      "cell_type": "code",
      "source": [
        "# create a day of the week column for purchase date\n",
        "df['Purchase day of week'] = df['Purchase datetime'].dt.day_name()\n",
        "\n",
        "# create a day of the week for travel date\n",
        "df['Travel day of week'] = df['Travel datetime'].dt.day_name()"
      ],
      "metadata": {
        "id": "nGvLO2cQ0Yuj"
      },
      "execution_count": 8,
      "outputs": []
    },
    {
      "cell_type": "code",
      "source": [
        "# create a route column\n",
        "df['Route'] = df['Departure Station'] + ' - ' + df['Arrival Destination']"
      ],
      "metadata": {
        "id": "4fnBGekQCYmL"
      },
      "execution_count": 9,
      "outputs": []
    },
    {
      "cell_type": "code",
      "source": [
        "# check that columns were added correctly\n",
        "df.head()"
      ],
      "metadata": {
        "colab": {
          "base_uri": "https://localhost:8080/",
          "height": 550
        },
        "id": "qvJMHp5O1-ay",
        "outputId": "ca631ddc-f2a6-40eb-8ab5-e342a3aa9075"
      },
      "execution_count": 10,
      "outputs": [
        {
          "output_type": "execute_result",
          "data": {
            "text/plain": [
              "            Transaction ID Date of Purchase Time of Purchase Purchase Type  \\\n",
              "0  da8a6ba8-b3dc-4677-b176       2023-12-08         12:41:11        Online   \n",
              "1  b0cdd1b0-f214-4197-be53       2023-12-16         11:23:01       Station   \n",
              "2  f3ba7a96-f713-40d9-9629       2023-12-19         19:51:27        Online   \n",
              "3  b2471f11-4fe7-4c87-8ab4       2023-12-20         23:00:36       Station   \n",
              "4  2be00b45-0762-485e-a7a3       2023-12-27         18:22:56        Online   \n",
              "\n",
              "  Payment Method Railcard Ticket Class Ticket Type  Price  \\\n",
              "0    Contactless    Adult     Standard     Advance     43   \n",
              "1    Credit Card    Adult     Standard     Advance     23   \n",
              "2    Credit Card      NaN     Standard     Advance      3   \n",
              "3    Credit Card      NaN     Standard     Advance     13   \n",
              "4    Contactless      NaN     Standard     Advance     76   \n",
              "\n",
              "       Departure Station  ... Journey Status Reason for Delay Refund Request  \\\n",
              "0      London Paddington  ...        On Time              NaN             No   \n",
              "1     London Kings Cross  ...        Delayed   Signal Failure             No   \n",
              "2  Liverpool Lime Street  ...        On Time              NaN             No   \n",
              "3      London Paddington  ...        On Time              NaN             No   \n",
              "4  Liverpool Lime Street  ...        On Time              NaN             No   \n",
              "\n",
              "    Purchase datetime     Travel datetime Scheduled arrival datetime  \\\n",
              "0 2023-12-08 12:41:11 2024-01-01 11:00:00        2024-01-01 13:30:00   \n",
              "1 2023-12-16 11:23:01 2024-01-01 09:45:00        2024-01-01 11:35:00   \n",
              "2 2023-12-19 19:51:27 2024-01-02 18:15:00        2024-01-02 18:45:00   \n",
              "3 2023-12-20 23:00:36 2024-01-01 21:30:00        2024-01-01 22:30:00   \n",
              "4 2023-12-27 18:22:56 2024-01-01 16:45:00        2024-01-01 19:00:00   \n",
              "\n",
              "  Actual arrival datetime Purchase day of week Travel day of week  \\\n",
              "0     2024-01-01 13:30:00               Friday             Monday   \n",
              "1     2024-01-01 11:40:00             Saturday             Monday   \n",
              "2     2024-01-02 18:45:00              Tuesday            Tuesday   \n",
              "3     2024-01-01 22:30:00            Wednesday             Monday   \n",
              "4     2024-01-01 19:00:00            Wednesday             Monday   \n",
              "\n",
              "                                           Route  \n",
              "0      London Paddington - Liverpool Lime Street  \n",
              "1                      London Kings Cross - York  \n",
              "2  Liverpool Lime Street - Manchester Piccadilly  \n",
              "3                    London Paddington - Reading  \n",
              "4          Liverpool Lime Street - London Euston  \n",
              "\n",
              "[5 rows x 25 columns]"
            ],
            "text/html": [
              "\n",
              "  <div id=\"df-f7545df5-80f9-455a-b06b-de1c61fa7eaa\" class=\"colab-df-container\">\n",
              "    <div>\n",
              "<style scoped>\n",
              "    .dataframe tbody tr th:only-of-type {\n",
              "        vertical-align: middle;\n",
              "    }\n",
              "\n",
              "    .dataframe tbody tr th {\n",
              "        vertical-align: top;\n",
              "    }\n",
              "\n",
              "    .dataframe thead th {\n",
              "        text-align: right;\n",
              "    }\n",
              "</style>\n",
              "<table border=\"1\" class=\"dataframe\">\n",
              "  <thead>\n",
              "    <tr style=\"text-align: right;\">\n",
              "      <th></th>\n",
              "      <th>Transaction ID</th>\n",
              "      <th>Date of Purchase</th>\n",
              "      <th>Time of Purchase</th>\n",
              "      <th>Purchase Type</th>\n",
              "      <th>Payment Method</th>\n",
              "      <th>Railcard</th>\n",
              "      <th>Ticket Class</th>\n",
              "      <th>Ticket Type</th>\n",
              "      <th>Price</th>\n",
              "      <th>Departure Station</th>\n",
              "      <th>...</th>\n",
              "      <th>Journey Status</th>\n",
              "      <th>Reason for Delay</th>\n",
              "      <th>Refund Request</th>\n",
              "      <th>Purchase datetime</th>\n",
              "      <th>Travel datetime</th>\n",
              "      <th>Scheduled arrival datetime</th>\n",
              "      <th>Actual arrival datetime</th>\n",
              "      <th>Purchase day of week</th>\n",
              "      <th>Travel day of week</th>\n",
              "      <th>Route</th>\n",
              "    </tr>\n",
              "  </thead>\n",
              "  <tbody>\n",
              "    <tr>\n",
              "      <th>0</th>\n",
              "      <td>da8a6ba8-b3dc-4677-b176</td>\n",
              "      <td>2023-12-08</td>\n",
              "      <td>12:41:11</td>\n",
              "      <td>Online</td>\n",
              "      <td>Contactless</td>\n",
              "      <td>Adult</td>\n",
              "      <td>Standard</td>\n",
              "      <td>Advance</td>\n",
              "      <td>43</td>\n",
              "      <td>London Paddington</td>\n",
              "      <td>...</td>\n",
              "      <td>On Time</td>\n",
              "      <td>NaN</td>\n",
              "      <td>No</td>\n",
              "      <td>2023-12-08 12:41:11</td>\n",
              "      <td>2024-01-01 11:00:00</td>\n",
              "      <td>2024-01-01 13:30:00</td>\n",
              "      <td>2024-01-01 13:30:00</td>\n",
              "      <td>Friday</td>\n",
              "      <td>Monday</td>\n",
              "      <td>London Paddington - Liverpool Lime Street</td>\n",
              "    </tr>\n",
              "    <tr>\n",
              "      <th>1</th>\n",
              "      <td>b0cdd1b0-f214-4197-be53</td>\n",
              "      <td>2023-12-16</td>\n",
              "      <td>11:23:01</td>\n",
              "      <td>Station</td>\n",
              "      <td>Credit Card</td>\n",
              "      <td>Adult</td>\n",
              "      <td>Standard</td>\n",
              "      <td>Advance</td>\n",
              "      <td>23</td>\n",
              "      <td>London Kings Cross</td>\n",
              "      <td>...</td>\n",
              "      <td>Delayed</td>\n",
              "      <td>Signal Failure</td>\n",
              "      <td>No</td>\n",
              "      <td>2023-12-16 11:23:01</td>\n",
              "      <td>2024-01-01 09:45:00</td>\n",
              "      <td>2024-01-01 11:35:00</td>\n",
              "      <td>2024-01-01 11:40:00</td>\n",
              "      <td>Saturday</td>\n",
              "      <td>Monday</td>\n",
              "      <td>London Kings Cross - York</td>\n",
              "    </tr>\n",
              "    <tr>\n",
              "      <th>2</th>\n",
              "      <td>f3ba7a96-f713-40d9-9629</td>\n",
              "      <td>2023-12-19</td>\n",
              "      <td>19:51:27</td>\n",
              "      <td>Online</td>\n",
              "      <td>Credit Card</td>\n",
              "      <td>NaN</td>\n",
              "      <td>Standard</td>\n",
              "      <td>Advance</td>\n",
              "      <td>3</td>\n",
              "      <td>Liverpool Lime Street</td>\n",
              "      <td>...</td>\n",
              "      <td>On Time</td>\n",
              "      <td>NaN</td>\n",
              "      <td>No</td>\n",
              "      <td>2023-12-19 19:51:27</td>\n",
              "      <td>2024-01-02 18:15:00</td>\n",
              "      <td>2024-01-02 18:45:00</td>\n",
              "      <td>2024-01-02 18:45:00</td>\n",
              "      <td>Tuesday</td>\n",
              "      <td>Tuesday</td>\n",
              "      <td>Liverpool Lime Street - Manchester Piccadilly</td>\n",
              "    </tr>\n",
              "    <tr>\n",
              "      <th>3</th>\n",
              "      <td>b2471f11-4fe7-4c87-8ab4</td>\n",
              "      <td>2023-12-20</td>\n",
              "      <td>23:00:36</td>\n",
              "      <td>Station</td>\n",
              "      <td>Credit Card</td>\n",
              "      <td>NaN</td>\n",
              "      <td>Standard</td>\n",
              "      <td>Advance</td>\n",
              "      <td>13</td>\n",
              "      <td>London Paddington</td>\n",
              "      <td>...</td>\n",
              "      <td>On Time</td>\n",
              "      <td>NaN</td>\n",
              "      <td>No</td>\n",
              "      <td>2023-12-20 23:00:36</td>\n",
              "      <td>2024-01-01 21:30:00</td>\n",
              "      <td>2024-01-01 22:30:00</td>\n",
              "      <td>2024-01-01 22:30:00</td>\n",
              "      <td>Wednesday</td>\n",
              "      <td>Monday</td>\n",
              "      <td>London Paddington - Reading</td>\n",
              "    </tr>\n",
              "    <tr>\n",
              "      <th>4</th>\n",
              "      <td>2be00b45-0762-485e-a7a3</td>\n",
              "      <td>2023-12-27</td>\n",
              "      <td>18:22:56</td>\n",
              "      <td>Online</td>\n",
              "      <td>Contactless</td>\n",
              "      <td>NaN</td>\n",
              "      <td>Standard</td>\n",
              "      <td>Advance</td>\n",
              "      <td>76</td>\n",
              "      <td>Liverpool Lime Street</td>\n",
              "      <td>...</td>\n",
              "      <td>On Time</td>\n",
              "      <td>NaN</td>\n",
              "      <td>No</td>\n",
              "      <td>2023-12-27 18:22:56</td>\n",
              "      <td>2024-01-01 16:45:00</td>\n",
              "      <td>2024-01-01 19:00:00</td>\n",
              "      <td>2024-01-01 19:00:00</td>\n",
              "      <td>Wednesday</td>\n",
              "      <td>Monday</td>\n",
              "      <td>Liverpool Lime Street - London Euston</td>\n",
              "    </tr>\n",
              "  </tbody>\n",
              "</table>\n",
              "<p>5 rows × 25 columns</p>\n",
              "</div>\n",
              "    <div class=\"colab-df-buttons\">\n",
              "\n",
              "  <div class=\"colab-df-container\">\n",
              "    <button class=\"colab-df-convert\" onclick=\"convertToInteractive('df-f7545df5-80f9-455a-b06b-de1c61fa7eaa')\"\n",
              "            title=\"Convert this dataframe to an interactive table.\"\n",
              "            style=\"display:none;\">\n",
              "\n",
              "  <svg xmlns=\"http://www.w3.org/2000/svg\" height=\"24px\" viewBox=\"0 -960 960 960\">\n",
              "    <path d=\"M120-120v-720h720v720H120Zm60-500h600v-160H180v160Zm220 220h160v-160H400v160Zm0 220h160v-160H400v160ZM180-400h160v-160H180v160Zm440 0h160v-160H620v160ZM180-180h160v-160H180v160Zm440 0h160v-160H620v160Z\"/>\n",
              "  </svg>\n",
              "    </button>\n",
              "\n",
              "  <style>\n",
              "    .colab-df-container {\n",
              "      display:flex;\n",
              "      gap: 12px;\n",
              "    }\n",
              "\n",
              "    .colab-df-convert {\n",
              "      background-color: #E8F0FE;\n",
              "      border: none;\n",
              "      border-radius: 50%;\n",
              "      cursor: pointer;\n",
              "      display: none;\n",
              "      fill: #1967D2;\n",
              "      height: 32px;\n",
              "      padding: 0 0 0 0;\n",
              "      width: 32px;\n",
              "    }\n",
              "\n",
              "    .colab-df-convert:hover {\n",
              "      background-color: #E2EBFA;\n",
              "      box-shadow: 0px 1px 2px rgba(60, 64, 67, 0.3), 0px 1px 3px 1px rgba(60, 64, 67, 0.15);\n",
              "      fill: #174EA6;\n",
              "    }\n",
              "\n",
              "    .colab-df-buttons div {\n",
              "      margin-bottom: 4px;\n",
              "    }\n",
              "\n",
              "    [theme=dark] .colab-df-convert {\n",
              "      background-color: #3B4455;\n",
              "      fill: #D2E3FC;\n",
              "    }\n",
              "\n",
              "    [theme=dark] .colab-df-convert:hover {\n",
              "      background-color: #434B5C;\n",
              "      box-shadow: 0px 1px 3px 1px rgba(0, 0, 0, 0.15);\n",
              "      filter: drop-shadow(0px 1px 2px rgba(0, 0, 0, 0.3));\n",
              "      fill: #FFFFFF;\n",
              "    }\n",
              "  </style>\n",
              "\n",
              "    <script>\n",
              "      const buttonEl =\n",
              "        document.querySelector('#df-f7545df5-80f9-455a-b06b-de1c61fa7eaa button.colab-df-convert');\n",
              "      buttonEl.style.display =\n",
              "        google.colab.kernel.accessAllowed ? 'block' : 'none';\n",
              "\n",
              "      async function convertToInteractive(key) {\n",
              "        const element = document.querySelector('#df-f7545df5-80f9-455a-b06b-de1c61fa7eaa');\n",
              "        const dataTable =\n",
              "          await google.colab.kernel.invokeFunction('convertToInteractive',\n",
              "                                                    [key], {});\n",
              "        if (!dataTable) return;\n",
              "\n",
              "        const docLinkHtml = 'Like what you see? Visit the ' +\n",
              "          '<a target=\"_blank\" href=https://colab.research.google.com/notebooks/data_table.ipynb>data table notebook</a>'\n",
              "          + ' to learn more about interactive tables.';\n",
              "        element.innerHTML = '';\n",
              "        dataTable['output_type'] = 'display_data';\n",
              "        await google.colab.output.renderOutput(dataTable, element);\n",
              "        const docLink = document.createElement('div');\n",
              "        docLink.innerHTML = docLinkHtml;\n",
              "        element.appendChild(docLink);\n",
              "      }\n",
              "    </script>\n",
              "  </div>\n",
              "\n",
              "\n",
              "<div id=\"df-50861eb4-104d-4459-953c-8ffd2642a523\">\n",
              "  <button class=\"colab-df-quickchart\" onclick=\"quickchart('df-50861eb4-104d-4459-953c-8ffd2642a523')\"\n",
              "            title=\"Suggest charts\"\n",
              "            style=\"display:none;\">\n",
              "\n",
              "<svg xmlns=\"http://www.w3.org/2000/svg\" height=\"24px\"viewBox=\"0 0 24 24\"\n",
              "     width=\"24px\">\n",
              "    <g>\n",
              "        <path d=\"M19 3H5c-1.1 0-2 .9-2 2v14c0 1.1.9 2 2 2h14c1.1 0 2-.9 2-2V5c0-1.1-.9-2-2-2zM9 17H7v-7h2v7zm4 0h-2V7h2v10zm4 0h-2v-4h2v4z\"/>\n",
              "    </g>\n",
              "</svg>\n",
              "  </button>\n",
              "\n",
              "<style>\n",
              "  .colab-df-quickchart {\n",
              "      --bg-color: #E8F0FE;\n",
              "      --fill-color: #1967D2;\n",
              "      --hover-bg-color: #E2EBFA;\n",
              "      --hover-fill-color: #174EA6;\n",
              "      --disabled-fill-color: #AAA;\n",
              "      --disabled-bg-color: #DDD;\n",
              "  }\n",
              "\n",
              "  [theme=dark] .colab-df-quickchart {\n",
              "      --bg-color: #3B4455;\n",
              "      --fill-color: #D2E3FC;\n",
              "      --hover-bg-color: #434B5C;\n",
              "      --hover-fill-color: #FFFFFF;\n",
              "      --disabled-bg-color: #3B4455;\n",
              "      --disabled-fill-color: #666;\n",
              "  }\n",
              "\n",
              "  .colab-df-quickchart {\n",
              "    background-color: var(--bg-color);\n",
              "    border: none;\n",
              "    border-radius: 50%;\n",
              "    cursor: pointer;\n",
              "    display: none;\n",
              "    fill: var(--fill-color);\n",
              "    height: 32px;\n",
              "    padding: 0;\n",
              "    width: 32px;\n",
              "  }\n",
              "\n",
              "  .colab-df-quickchart:hover {\n",
              "    background-color: var(--hover-bg-color);\n",
              "    box-shadow: 0 1px 2px rgba(60, 64, 67, 0.3), 0 1px 3px 1px rgba(60, 64, 67, 0.15);\n",
              "    fill: var(--button-hover-fill-color);\n",
              "  }\n",
              "\n",
              "  .colab-df-quickchart-complete:disabled,\n",
              "  .colab-df-quickchart-complete:disabled:hover {\n",
              "    background-color: var(--disabled-bg-color);\n",
              "    fill: var(--disabled-fill-color);\n",
              "    box-shadow: none;\n",
              "  }\n",
              "\n",
              "  .colab-df-spinner {\n",
              "    border: 2px solid var(--fill-color);\n",
              "    border-color: transparent;\n",
              "    border-bottom-color: var(--fill-color);\n",
              "    animation:\n",
              "      spin 1s steps(1) infinite;\n",
              "  }\n",
              "\n",
              "  @keyframes spin {\n",
              "    0% {\n",
              "      border-color: transparent;\n",
              "      border-bottom-color: var(--fill-color);\n",
              "      border-left-color: var(--fill-color);\n",
              "    }\n",
              "    20% {\n",
              "      border-color: transparent;\n",
              "      border-left-color: var(--fill-color);\n",
              "      border-top-color: var(--fill-color);\n",
              "    }\n",
              "    30% {\n",
              "      border-color: transparent;\n",
              "      border-left-color: var(--fill-color);\n",
              "      border-top-color: var(--fill-color);\n",
              "      border-right-color: var(--fill-color);\n",
              "    }\n",
              "    40% {\n",
              "      border-color: transparent;\n",
              "      border-right-color: var(--fill-color);\n",
              "      border-top-color: var(--fill-color);\n",
              "    }\n",
              "    60% {\n",
              "      border-color: transparent;\n",
              "      border-right-color: var(--fill-color);\n",
              "    }\n",
              "    80% {\n",
              "      border-color: transparent;\n",
              "      border-right-color: var(--fill-color);\n",
              "      border-bottom-color: var(--fill-color);\n",
              "    }\n",
              "    90% {\n",
              "      border-color: transparent;\n",
              "      border-bottom-color: var(--fill-color);\n",
              "    }\n",
              "  }\n",
              "</style>\n",
              "\n",
              "  <script>\n",
              "    async function quickchart(key) {\n",
              "      const quickchartButtonEl =\n",
              "        document.querySelector('#' + key + ' button');\n",
              "      quickchartButtonEl.disabled = true;  // To prevent multiple clicks.\n",
              "      quickchartButtonEl.classList.add('colab-df-spinner');\n",
              "      try {\n",
              "        const charts = await google.colab.kernel.invokeFunction(\n",
              "            'suggestCharts', [key], {});\n",
              "      } catch (error) {\n",
              "        console.error('Error during call to suggestCharts:', error);\n",
              "      }\n",
              "      quickchartButtonEl.classList.remove('colab-df-spinner');\n",
              "      quickchartButtonEl.classList.add('colab-df-quickchart-complete');\n",
              "    }\n",
              "    (() => {\n",
              "      let quickchartButtonEl =\n",
              "        document.querySelector('#df-50861eb4-104d-4459-953c-8ffd2642a523 button');\n",
              "      quickchartButtonEl.style.display =\n",
              "        google.colab.kernel.accessAllowed ? 'block' : 'none';\n",
              "    })();\n",
              "  </script>\n",
              "</div>\n",
              "\n",
              "    </div>\n",
              "  </div>\n"
            ],
            "application/vnd.google.colaboratory.intrinsic+json": {
              "type": "dataframe",
              "variable_name": "df"
            }
          },
          "metadata": {},
          "execution_count": 10
        }
      ]
    },
    {
      "cell_type": "code",
      "source": [
        "# check that departure station names are spelled uniformly\n",
        "print(sorted(df['Departure Station'].unique()))\n"
      ],
      "metadata": {
        "colab": {
          "base_uri": "https://localhost:8080/"
        },
        "id": "AvzoluGp1RNc",
        "outputId": "2a6fb6d1-2915-45b1-aaeb-6bccd6e5959a"
      },
      "execution_count": 11,
      "outputs": [
        {
          "output_type": "stream",
          "name": "stdout",
          "text": [
            "['Birmingham New Street', 'Bristol Temple Meads', 'Edinburgh Waverley', 'Liverpool Lime Street', 'London Euston', 'London Kings Cross', 'London Paddington', 'London St Pancras', 'Manchester Piccadilly', 'Oxford', 'Reading', 'York']\n"
          ]
        }
      ]
    },
    {
      "cell_type": "code",
      "source": [
        "# check that arrival station names are spelled uniformly\n",
        "print(sorted(df['Arrival Destination'].unique()))"
      ],
      "metadata": {
        "colab": {
          "base_uri": "https://localhost:8080/"
        },
        "id": "7agtymRi105E",
        "outputId": "34146110-36c6-4581-bc2e-707e37a52bfe"
      },
      "execution_count": 12,
      "outputs": [
        {
          "output_type": "stream",
          "name": "stdout",
          "text": [
            "['Birmingham New Street', 'Bristol Temple Meads', 'Cardiff Central', 'Coventry', 'Crewe', 'Didcot', 'Doncaster', 'Durham', 'Edinburgh', 'Edinburgh Waverley', 'Leeds', 'Leicester', 'Liverpool Lime Street', 'London Euston', 'London Kings Cross', 'London Paddington', 'London St Pancras', 'London Waterloo', 'Manchester Piccadilly', 'Nottingham', 'Nuneaton', 'Oxford', 'Peterborough', 'Reading', 'Sheffield', 'Stafford', 'Swindon', 'Tamworth', 'Wakefield', 'Warrington', 'Wolverhampton', 'York']\n"
          ]
        }
      ]
    },
    {
      "cell_type": "code",
      "source": [
        "# check what reasons for delay are listed\n",
        "df['Reason for Delay'].unique()"
      ],
      "metadata": {
        "colab": {
          "base_uri": "https://localhost:8080/"
        },
        "id": "FdffXXQrgnHP",
        "outputId": "03dc78b8-1da3-4235-ee49-71dce3910ef9"
      },
      "execution_count": 13,
      "outputs": [
        {
          "output_type": "execute_result",
          "data": {
            "text/plain": [
              "array([nan, 'Signal Failure', 'Technical Issue', 'Weather Conditions',\n",
              "       'Weather', 'Staffing', 'Staff Shortage', 'Signal failure',\n",
              "       'Traffic'], dtype=object)"
            ]
          },
          "metadata": {},
          "execution_count": 13
        }
      ]
    },
    {
      "cell_type": "code",
      "source": [
        "# correct categores in 'reason for delay'column: 'weather conditions' were replaced with simply 'weather';\n",
        "# 'staffing' and 'staffing shortage' were unified under 'staffing shortage';\n",
        "# spelling for 'signal failure' was corrected\n",
        "# check that the final spelling is correct and the number of unique values went down\n",
        "\n",
        "df['Reason for Delay'] = df['Reason for Delay'].str.replace('Weather Conditions', 'Weather')\n",
        "df['Reason for Delay'] = df['Reason for Delay'].str.replace('Staffing', 'Staff Shortage')\n",
        "df['Reason for Delay'] = df['Reason for Delay'].str.replace('Signal failure', 'Signal Failure')\n",
        "df['Reason for Delay'].unique()"
      ],
      "metadata": {
        "colab": {
          "base_uri": "https://localhost:8080/"
        },
        "id": "q8UOlcmnykUt",
        "outputId": "51b727b2-e3e5-48ac-f80c-e31a63f5c664"
      },
      "execution_count": 14,
      "outputs": [
        {
          "output_type": "execute_result",
          "data": {
            "text/plain": [
              "array([nan, 'Signal Failure', 'Technical Issue', 'Weather',\n",
              "       'Staff Shortage', 'Traffic'], dtype=object)"
            ]
          },
          "metadata": {},
          "execution_count": 14
        }
      ]
    },
    {
      "cell_type": "code",
      "source": [
        "# replace 'Yes/No' in Refund Request column with 1 and 0\n",
        "df['Refund Request'] = df['Refund Request'].map(lambda x : 1 if x == 'Yes' else 0)"
      ],
      "metadata": {
        "id": "Ewr_gLhDaU9E"
      },
      "execution_count": 15,
      "outputs": []
    },
    {
      "cell_type": "code",
      "source": [
        "df.info()"
      ],
      "metadata": {
        "colab": {
          "base_uri": "https://localhost:8080/"
        },
        "id": "SCzhkECBAVqU",
        "outputId": "6f3cd483-e7a1-463b-a9c4-ad2a429116cb"
      },
      "execution_count": 16,
      "outputs": [
        {
          "output_type": "stream",
          "name": "stdout",
          "text": [
            "<class 'pandas.core.frame.DataFrame'>\n",
            "RangeIndex: 31653 entries, 0 to 31652\n",
            "Data columns (total 25 columns):\n",
            " #   Column                      Non-Null Count  Dtype         \n",
            "---  ------                      --------------  -----         \n",
            " 0   Transaction ID              31653 non-null  object        \n",
            " 1   Date of Purchase            31653 non-null  object        \n",
            " 2   Time of Purchase            31653 non-null  object        \n",
            " 3   Purchase Type               31653 non-null  object        \n",
            " 4   Payment Method              31653 non-null  object        \n",
            " 5   Railcard                    10735 non-null  object        \n",
            " 6   Ticket Class                31653 non-null  object        \n",
            " 7   Ticket Type                 31653 non-null  object        \n",
            " 8   Price                       31653 non-null  int64         \n",
            " 9   Departure Station           31653 non-null  object        \n",
            " 10  Arrival Destination         31653 non-null  object        \n",
            " 11  Date of Journey             31653 non-null  object        \n",
            " 12  Departure Time              31653 non-null  object        \n",
            " 13  Arrival Time                31653 non-null  object        \n",
            " 14  Actual Arrival Time         29773 non-null  object        \n",
            " 15  Journey Status              31653 non-null  object        \n",
            " 16  Reason for Delay            4172 non-null   object        \n",
            " 17  Refund Request              31653 non-null  int64         \n",
            " 18  Purchase datetime           31653 non-null  datetime64[ns]\n",
            " 19  Travel datetime             31653 non-null  datetime64[ns]\n",
            " 20  Scheduled arrival datetime  31653 non-null  datetime64[ns]\n",
            " 21  Actual arrival datetime     29773 non-null  datetime64[ns]\n",
            " 22  Purchase day of week        31653 non-null  object        \n",
            " 23  Travel day of week          31653 non-null  object        \n",
            " 24  Route                       31653 non-null  object        \n",
            "dtypes: datetime64[ns](4), int64(2), object(19)\n",
            "memory usage: 6.0+ MB\n"
          ]
        }
      ]
    },
    {
      "cell_type": "markdown",
      "source": [
        "From data exploration with info() command, I noticed that some train rides do not have an 'actual arrival time' field."
      ],
      "metadata": {
        "id": "RfeowVIZ6ihJ"
      }
    },
    {
      "cell_type": "code",
      "source": [
        "# counting how many rides do not have actual arrival time\n",
        "count_scheduled = df['Arrival Time'].notnull().sum()\n",
        "\n",
        "count_actual_arr = df['Actual Arrival Time'].notnull().sum()\n",
        "\n",
        "missing_actual_arr = count_scheduled - count_actual_arr\n",
        "print(f\"Number of missing values in 'Actual Arrival Time': {missing_actual_arr}\")"
      ],
      "metadata": {
        "colab": {
          "base_uri": "https://localhost:8080/"
        },
        "id": "DZ_HzBls6yiP",
        "outputId": "2c00f9ca-2fb8-4ff4-c4f7-c1adbdd0807d"
      },
      "execution_count": 17,
      "outputs": [
        {
          "output_type": "stream",
          "name": "stdout",
          "text": [
            "Number of missing values in 'Actual Arrival Time': 1880\n"
          ]
        }
      ]
    },
    {
      "cell_type": "code",
      "source": [
        "# checking Journey status to see if there is any chance that rides without actual arrival time were cancelled\n",
        "df['Journey Status'].value_counts()"
      ],
      "metadata": {
        "colab": {
          "base_uri": "https://localhost:8080/",
          "height": 209
        },
        "id": "zONgXdmMgU9G",
        "outputId": "67c1cb75-e817-42b4-a6d8-88821ae6f5ef"
      },
      "execution_count": 18,
      "outputs": [
        {
          "output_type": "execute_result",
          "data": {
            "text/plain": [
              "Journey Status\n",
              "On Time      27481\n",
              "Delayed       2292\n",
              "Cancelled     1880\n",
              "Name: count, dtype: int64"
            ],
            "text/html": [
              "<div>\n",
              "<style scoped>\n",
              "    .dataframe tbody tr th:only-of-type {\n",
              "        vertical-align: middle;\n",
              "    }\n",
              "\n",
              "    .dataframe tbody tr th {\n",
              "        vertical-align: top;\n",
              "    }\n",
              "\n",
              "    .dataframe thead th {\n",
              "        text-align: right;\n",
              "    }\n",
              "</style>\n",
              "<table border=\"1\" class=\"dataframe\">\n",
              "  <thead>\n",
              "    <tr style=\"text-align: right;\">\n",
              "      <th></th>\n",
              "      <th>count</th>\n",
              "    </tr>\n",
              "    <tr>\n",
              "      <th>Journey Status</th>\n",
              "      <th></th>\n",
              "    </tr>\n",
              "  </thead>\n",
              "  <tbody>\n",
              "    <tr>\n",
              "      <th>On Time</th>\n",
              "      <td>27481</td>\n",
              "    </tr>\n",
              "    <tr>\n",
              "      <th>Delayed</th>\n",
              "      <td>2292</td>\n",
              "    </tr>\n",
              "    <tr>\n",
              "      <th>Cancelled</th>\n",
              "      <td>1880</td>\n",
              "    </tr>\n",
              "  </tbody>\n",
              "</table>\n",
              "</div><br><label><b>dtype:</b> int64</label>"
            ]
          },
          "metadata": {},
          "execution_count": 18
        }
      ]
    },
    {
      "cell_type": "markdown",
      "source": [
        "In conclusion, the rides that were cancelled, did not have the actual arrival date which explains that these missing data points do not need to be filled."
      ],
      "metadata": {
        "id": "wnhWLlUi-XFD"
      }
    },
    {
      "cell_type": "code",
      "source": [
        "# replacing nulls in the Railcard data with 'No railcard'\n",
        "df.fillna(value = {'Railcard': 'No railcard'}, inplace=True)"
      ],
      "metadata": {
        "id": "XX73O9BeSJZr"
      },
      "execution_count": 19,
      "outputs": []
    },
    {
      "cell_type": "code",
      "source": [
        "df['Railcard'].sample(10)"
      ],
      "metadata": {
        "colab": {
          "base_uri": "https://localhost:8080/",
          "height": 397
        },
        "id": "dSw9hx1dShKE",
        "outputId": "6f51ece0-ee77-4e2a-bf9b-de72262f9550"
      },
      "execution_count": 20,
      "outputs": [
        {
          "output_type": "execute_result",
          "data": {
            "text/plain": [
              "4506     No railcard\n",
              "26766    No railcard\n",
              "5130     No railcard\n",
              "21308          Adult\n",
              "22179    No railcard\n",
              "2556     No railcard\n",
              "21871    No railcard\n",
              "13073         Senior\n",
              "27936         Senior\n",
              "28960    No railcard\n",
              "Name: Railcard, dtype: object"
            ],
            "text/html": [
              "<div>\n",
              "<style scoped>\n",
              "    .dataframe tbody tr th:only-of-type {\n",
              "        vertical-align: middle;\n",
              "    }\n",
              "\n",
              "    .dataframe tbody tr th {\n",
              "        vertical-align: top;\n",
              "    }\n",
              "\n",
              "    .dataframe thead th {\n",
              "        text-align: right;\n",
              "    }\n",
              "</style>\n",
              "<table border=\"1\" class=\"dataframe\">\n",
              "  <thead>\n",
              "    <tr style=\"text-align: right;\">\n",
              "      <th></th>\n",
              "      <th>Railcard</th>\n",
              "    </tr>\n",
              "  </thead>\n",
              "  <tbody>\n",
              "    <tr>\n",
              "      <th>4506</th>\n",
              "      <td>No railcard</td>\n",
              "    </tr>\n",
              "    <tr>\n",
              "      <th>26766</th>\n",
              "      <td>No railcard</td>\n",
              "    </tr>\n",
              "    <tr>\n",
              "      <th>5130</th>\n",
              "      <td>No railcard</td>\n",
              "    </tr>\n",
              "    <tr>\n",
              "      <th>21308</th>\n",
              "      <td>Adult</td>\n",
              "    </tr>\n",
              "    <tr>\n",
              "      <th>22179</th>\n",
              "      <td>No railcard</td>\n",
              "    </tr>\n",
              "    <tr>\n",
              "      <th>2556</th>\n",
              "      <td>No railcard</td>\n",
              "    </tr>\n",
              "    <tr>\n",
              "      <th>21871</th>\n",
              "      <td>No railcard</td>\n",
              "    </tr>\n",
              "    <tr>\n",
              "      <th>13073</th>\n",
              "      <td>Senior</td>\n",
              "    </tr>\n",
              "    <tr>\n",
              "      <th>27936</th>\n",
              "      <td>Senior</td>\n",
              "    </tr>\n",
              "    <tr>\n",
              "      <th>28960</th>\n",
              "      <td>No railcard</td>\n",
              "    </tr>\n",
              "  </tbody>\n",
              "</table>\n",
              "</div><br><label><b>dtype:</b> object</label>"
            ]
          },
          "metadata": {},
          "execution_count": 20
        }
      ]
    },
    {
      "cell_type": "markdown",
      "source": [
        "# BUSINESS PROBLEM - DELAYS\n",
        "The purpose of this analysis is to learn about the delays in order to improve the punctuality of trains.\n",
        "\n",
        "# MAIN THEME\n",
        "When and where do train delays most commonly occur, and what factors contribute to them?\n",
        "\n",
        "# Sub-questions\n",
        "\n",
        "\n",
        "1.   How many journeys experience a delay?\n",
        "2.   What are the most common reasons for delay?\n",
        "3. Which routes experience the most delay, and how severe are they? How do these routes rank on popularity?\n",
        "4. When are delays most frequent during the day?\n",
        "5. Is there a pattern of delays by day of week and time?\n",
        "6. Do longer delays receive more refund requests?\n",
        "\n",
        "\n"
      ],
      "metadata": {
        "id": "_wyxxrNLnxPN"
      }
    },
    {
      "cell_type": "markdown",
      "source": [
        "# Route Analysis\n",
        "- What are the most popular routes?"
      ],
      "metadata": {
        "id": "7x9XgzwfEvoQ"
      }
    },
    {
      "cell_type": "code",
      "source": [
        "# the most popular routes in the dataset (by number of bookings) - to later compare whether any of the most popular routes are affected by delays\n",
        "df['Route'].value_counts().sort_values(ascending=False).head(10)"
      ],
      "metadata": {
        "colab": {
          "base_uri": "https://localhost:8080/",
          "height": 429
        },
        "id": "a1G28z1h6PyS",
        "outputId": "8f1c57e4-5b3b-486d-f92c-53385d646ae1"
      },
      "execution_count": 21,
      "outputs": [
        {
          "output_type": "execute_result",
          "data": {
            "text/plain": [
              "Route\n",
              "Manchester Piccadilly - Liverpool Lime Street    4628\n",
              "London Euston - Birmingham New Street            4209\n",
              "London Kings Cross - York                        3922\n",
              "London Paddington - Reading                      3873\n",
              "London St Pancras - Birmingham New Street        3471\n",
              "Liverpool Lime Street - Manchester Piccadilly    3002\n",
              "Liverpool Lime Street - London Euston            1097\n",
              "London Euston - Manchester Piccadilly             712\n",
              "Birmingham New Street - London St Pancras         702\n",
              "London Paddington - Oxford                        485\n",
              "Name: count, dtype: int64"
            ],
            "text/html": [
              "<div>\n",
              "<style scoped>\n",
              "    .dataframe tbody tr th:only-of-type {\n",
              "        vertical-align: middle;\n",
              "    }\n",
              "\n",
              "    .dataframe tbody tr th {\n",
              "        vertical-align: top;\n",
              "    }\n",
              "\n",
              "    .dataframe thead th {\n",
              "        text-align: right;\n",
              "    }\n",
              "</style>\n",
              "<table border=\"1\" class=\"dataframe\">\n",
              "  <thead>\n",
              "    <tr style=\"text-align: right;\">\n",
              "      <th></th>\n",
              "      <th>count</th>\n",
              "    </tr>\n",
              "    <tr>\n",
              "      <th>Route</th>\n",
              "      <th></th>\n",
              "    </tr>\n",
              "  </thead>\n",
              "  <tbody>\n",
              "    <tr>\n",
              "      <th>Manchester Piccadilly - Liverpool Lime Street</th>\n",
              "      <td>4628</td>\n",
              "    </tr>\n",
              "    <tr>\n",
              "      <th>London Euston - Birmingham New Street</th>\n",
              "      <td>4209</td>\n",
              "    </tr>\n",
              "    <tr>\n",
              "      <th>London Kings Cross - York</th>\n",
              "      <td>3922</td>\n",
              "    </tr>\n",
              "    <tr>\n",
              "      <th>London Paddington - Reading</th>\n",
              "      <td>3873</td>\n",
              "    </tr>\n",
              "    <tr>\n",
              "      <th>London St Pancras - Birmingham New Street</th>\n",
              "      <td>3471</td>\n",
              "    </tr>\n",
              "    <tr>\n",
              "      <th>Liverpool Lime Street - Manchester Piccadilly</th>\n",
              "      <td>3002</td>\n",
              "    </tr>\n",
              "    <tr>\n",
              "      <th>Liverpool Lime Street - London Euston</th>\n",
              "      <td>1097</td>\n",
              "    </tr>\n",
              "    <tr>\n",
              "      <th>London Euston - Manchester Piccadilly</th>\n",
              "      <td>712</td>\n",
              "    </tr>\n",
              "    <tr>\n",
              "      <th>Birmingham New Street - London St Pancras</th>\n",
              "      <td>702</td>\n",
              "    </tr>\n",
              "    <tr>\n",
              "      <th>London Paddington - Oxford</th>\n",
              "      <td>485</td>\n",
              "    </tr>\n",
              "  </tbody>\n",
              "</table>\n",
              "</div><br><label><b>dtype:</b> int64</label>"
            ]
          },
          "metadata": {},
          "execution_count": 21
        }
      ]
    },
    {
      "cell_type": "markdown",
      "source": [
        "# Delay Analysis\n",
        "**Goal** - to understand how delays are distributed and which routes or times are most affected.\n",
        "\n",
        "We calculate the delays time for each ride and add a delay column to the dataset.\n",
        "\n",
        "**Analysis steps**:\n",
        "- how many rides were delayed\n",
        "- what is the breakdown of reasons for delay\n",
        "- average delay by route\n",
        "- delay vs. time of day\n",
        "- delay frequency heatmap by day of week\n",
        "\n",
        "# Exploratory Delay Analysis"
      ],
      "metadata": {
        "id": "JUhbO_eMgvlg"
      }
    },
    {
      "cell_type": "code",
      "source": [
        "# how many rides were delayed\n",
        "delayed_trains = df['Reason for Delay'].notnull().sum()\n",
        "print(f\"Number of delayed trains: {delayed_trains}\")"
      ],
      "metadata": {
        "colab": {
          "base_uri": "https://localhost:8080/"
        },
        "id": "GthGV8A38JOg",
        "outputId": "1ac44ee1-4bae-472b-f90f-b585b6b4dc32"
      },
      "execution_count": 22,
      "outputs": [
        {
          "output_type": "stream",
          "name": "stdout",
          "text": [
            "Number of delayed trains: 4172\n"
          ]
        }
      ]
    },
    {
      "cell_type": "code",
      "source": [
        "# the total number of trains\n",
        "total_trains = df.shape[0]\n",
        "\n",
        "# percentage of delayed trains\n",
        "percentage_delayed = (delayed_trains / total_trains) * 100\n",
        "\n",
        "print(f\"Percentage of delayed trains: {percentage_delayed:.2f}%\")"
      ],
      "metadata": {
        "colab": {
          "base_uri": "https://localhost:8080/"
        },
        "id": "4EE__GuCq-0l",
        "outputId": "a7ce25f2-e752-4171-fefe-626eb0e18a04"
      },
      "execution_count": 23,
      "outputs": [
        {
          "output_type": "stream",
          "name": "stdout",
          "text": [
            "Percentage of delayed trains: 13.18%\n"
          ]
        }
      ]
    },
    {
      "cell_type": "code",
      "source": [
        "# calculate delay and add it as a column\n",
        "df['Delay'] = df['Actual arrival datetime'] - df['Scheduled arrival datetime']"
      ],
      "metadata": {
        "id": "9dgTlo-q9gcx"
      },
      "execution_count": 24,
      "outputs": []
    },
    {
      "cell_type": "code",
      "source": [
        "df['Delay'].describe()"
      ],
      "metadata": {
        "colab": {
          "base_uri": "https://localhost:8080/",
          "height": 334
        },
        "id": "ot-pLHrxBKyR",
        "outputId": "030e77f9-56b6-45ce-f730-0e269d5e44e7"
      },
      "execution_count": 25,
      "outputs": [
        {
          "output_type": "execute_result",
          "data": {
            "text/plain": [
              "count                        29773\n",
              "mean     0 days 00:03:14.981358949\n",
              "std      0 days 00:14:46.232314799\n",
              "min                0 days 00:00:00\n",
              "25%                0 days 00:00:00\n",
              "50%                0 days 00:00:00\n",
              "75%                0 days 00:00:00\n",
              "max                0 days 03:00:00\n",
              "Name: Delay, dtype: object"
            ],
            "text/html": [
              "<div>\n",
              "<style scoped>\n",
              "    .dataframe tbody tr th:only-of-type {\n",
              "        vertical-align: middle;\n",
              "    }\n",
              "\n",
              "    .dataframe tbody tr th {\n",
              "        vertical-align: top;\n",
              "    }\n",
              "\n",
              "    .dataframe thead th {\n",
              "        text-align: right;\n",
              "    }\n",
              "</style>\n",
              "<table border=\"1\" class=\"dataframe\">\n",
              "  <thead>\n",
              "    <tr style=\"text-align: right;\">\n",
              "      <th></th>\n",
              "      <th>Delay</th>\n",
              "    </tr>\n",
              "  </thead>\n",
              "  <tbody>\n",
              "    <tr>\n",
              "      <th>count</th>\n",
              "      <td>29773</td>\n",
              "    </tr>\n",
              "    <tr>\n",
              "      <th>mean</th>\n",
              "      <td>0 days 00:03:14.981358949</td>\n",
              "    </tr>\n",
              "    <tr>\n",
              "      <th>std</th>\n",
              "      <td>0 days 00:14:46.232314799</td>\n",
              "    </tr>\n",
              "    <tr>\n",
              "      <th>min</th>\n",
              "      <td>0 days 00:00:00</td>\n",
              "    </tr>\n",
              "    <tr>\n",
              "      <th>25%</th>\n",
              "      <td>0 days 00:00:00</td>\n",
              "    </tr>\n",
              "    <tr>\n",
              "      <th>50%</th>\n",
              "      <td>0 days 00:00:00</td>\n",
              "    </tr>\n",
              "    <tr>\n",
              "      <th>75%</th>\n",
              "      <td>0 days 00:00:00</td>\n",
              "    </tr>\n",
              "    <tr>\n",
              "      <th>max</th>\n",
              "      <td>0 days 03:00:00</td>\n",
              "    </tr>\n",
              "  </tbody>\n",
              "</table>\n",
              "</div><br><label><b>dtype:</b> object</label>"
            ]
          },
          "metadata": {},
          "execution_count": 25
        }
      ]
    },
    {
      "cell_type": "markdown",
      "source": [
        "# What does the above show tell us about delays on UK trains?\n",
        "\n",
        "When lloking at the whole dataset (inclusing rides that had no delay), the average delay time is **3 minutes 14 seconds** but standard deviation is **14 minutes 46 seconds** which shows a significant variation in data points. For example, the longest delay was **3 hrs**.\n",
        "\n",
        "To be able to look at delay data in more depth, I will create a separate dataframe with only the rides that actually had a delay. Any ride that had 1 minute or more of delay, I will consider delayed.\n"
      ],
      "metadata": {
        "id": "xtdfT2fYjacP"
      }
    },
    {
      "cell_type": "code",
      "source": [
        "# create a dataframe\n",
        "delays_df = df[df['Delay'] >= pd.Timedelta(minutes=1)]\n",
        "\n",
        "delays_df =df[df['Delay'] >= pd.Timedelta(minutes=1)].copy() # save acopy of delays sub- dataset"
      ],
      "metadata": {
        "id": "POz3Me0zFX-0"
      },
      "execution_count": 26,
      "outputs": []
    },
    {
      "cell_type": "code",
      "source": [
        "delays_df.shape"
      ],
      "metadata": {
        "colab": {
          "base_uri": "https://localhost:8080/"
        },
        "id": "pzkC95TclqkE",
        "outputId": "6df8b3b2-4567-4285-e093-18fe5e72e475"
      },
      "execution_count": 27,
      "outputs": [
        {
          "output_type": "execute_result",
          "data": {
            "text/plain": [
              "(2274, 26)"
            ]
          },
          "metadata": {},
          "execution_count": 27
        }
      ]
    },
    {
      "cell_type": "markdown",
      "source": [
        "**2274 rides** were delayed."
      ],
      "metadata": {
        "id": "-UoqoFJPmfLA"
      }
    },
    {
      "cell_type": "code",
      "source": [
        "delays_df.info()"
      ],
      "metadata": {
        "colab": {
          "base_uri": "https://localhost:8080/"
        },
        "id": "_E4LZnpMdDIK",
        "outputId": "ddefad8b-ac73-4cf5-e707-0700d18c7f51"
      },
      "execution_count": 28,
      "outputs": [
        {
          "output_type": "stream",
          "name": "stdout",
          "text": [
            "<class 'pandas.core.frame.DataFrame'>\n",
            "Index: 2274 entries, 1 to 31637\n",
            "Data columns (total 26 columns):\n",
            " #   Column                      Non-Null Count  Dtype          \n",
            "---  ------                      --------------  -----          \n",
            " 0   Transaction ID              2274 non-null   object         \n",
            " 1   Date of Purchase            2274 non-null   object         \n",
            " 2   Time of Purchase            2274 non-null   object         \n",
            " 3   Purchase Type               2274 non-null   object         \n",
            " 4   Payment Method              2274 non-null   object         \n",
            " 5   Railcard                    2274 non-null   object         \n",
            " 6   Ticket Class                2274 non-null   object         \n",
            " 7   Ticket Type                 2274 non-null   object         \n",
            " 8   Price                       2274 non-null   int64          \n",
            " 9   Departure Station           2274 non-null   object         \n",
            " 10  Arrival Destination         2274 non-null   object         \n",
            " 11  Date of Journey             2274 non-null   object         \n",
            " 12  Departure Time              2274 non-null   object         \n",
            " 13  Arrival Time                2274 non-null   object         \n",
            " 14  Actual Arrival Time         2274 non-null   object         \n",
            " 15  Journey Status              2274 non-null   object         \n",
            " 16  Reason for Delay            2274 non-null   object         \n",
            " 17  Refund Request              2274 non-null   int64          \n",
            " 18  Purchase datetime           2274 non-null   datetime64[ns] \n",
            " 19  Travel datetime             2274 non-null   datetime64[ns] \n",
            " 20  Scheduled arrival datetime  2274 non-null   datetime64[ns] \n",
            " 21  Actual arrival datetime     2274 non-null   datetime64[ns] \n",
            " 22  Purchase day of week        2274 non-null   object         \n",
            " 23  Travel day of week          2274 non-null   object         \n",
            " 24  Route                       2274 non-null   object         \n",
            " 25  Delay                       2274 non-null   timedelta64[ns]\n",
            "dtypes: datetime64[ns](4), int64(2), object(19), timedelta64[ns](1)\n",
            "memory usage: 479.7+ KB\n"
          ]
        }
      ]
    },
    {
      "cell_type": "code",
      "source": [
        "# calculate the percentage of delayed rides in comparison to the whole dataset\n",
        "delayed = delays_df.shape[0]\n",
        "\n",
        "percentage_delayed = (delayed / total_trains) * 100\n",
        "\n",
        "print(f\"Percentage of delayed trains: {percentage_delayed:.2f}%\")"
      ],
      "metadata": {
        "colab": {
          "base_uri": "https://localhost:8080/"
        },
        "id": "cUpjBV0irTBB",
        "outputId": "885c9b03-6322-48b1-a43e-3a5d81ba86d6"
      },
      "execution_count": 29,
      "outputs": [
        {
          "output_type": "stream",
          "name": "stdout",
          "text": [
            "Percentage of delayed trains: 7.18%\n"
          ]
        }
      ]
    },
    {
      "cell_type": "markdown",
      "source": [
        "So, if we only focus on trains that were delayed by 1 minute or more, they make up **only 7,18%** of all trains that ran in the UK between January and April 2024.\n",
        "\n",
        "To get a clearer perspective on the reliability of the trains in the UK, I created a donut chart that breaks down all train rides in the country across cancelled, delayed and on time/slightly delayed trains."
      ],
      "metadata": {
        "id": "A1mXdIEo3zP9"
      }
    },
    {
      "cell_type": "code",
      "source": [
        "# donut graph of delayed trains, cancelled trains and the rest\n",
        "\n",
        "# count of cancelled trains\n",
        "сancelled_trains = df[df['Journey Status'] == 'Cancelled'].shape[0]\n",
        "\n",
        "# count of trains that were on time or slightly delayed (not considered delayed in delays_df)\n",
        "on_time_or_slight_delay = total_trains - delayed - cancelled_trains\n",
        "\n",
        "# Data for the donut chart\n",
        "sizes = [delayed, cancelled_trains, on_time_or_slight_delay]\n",
        "labels = ['Delayed Trains', 'Cancelled Trains', 'On Time / Slight Delay']\n",
        "colors = ['#ffe066','#ffb077','#91c0c1']\n",
        "explode = (0.05, 0.05, 0.05)  # To slightly separate the slices\n",
        "\n",
        "fig1, ax1 = plt.subplots()\n",
        "ax1.pie(sizes, explode=explode, labels=labels, colors=colors, autopct='%1.1f%%',\n",
        "        shadow=False, startangle=90)\n",
        "\n",
        "# Draw a circle in the center to make it a donut chart\n",
        "center_circle = plt.Circle((0,0), 0.60, fc='white')\n",
        "fig = plt.gcf()\n",
        "fig.gca().add_artist(center_circle)\n",
        "\n",
        "plt.title('Distribution of Train Journey Outcomes')\n",
        "plt.show()"
      ],
      "metadata": {
        "colab": {
          "base_uri": "https://localhost:8080/",
          "height": 428
        },
        "id": "BsfqpdU7zhH8",
        "outputId": "bc42137a-b2d7-4230-d19d-88a5653b4709"
      },
      "execution_count": 30,
      "outputs": [
        {
          "output_type": "display_data",
          "data": {
            "text/plain": [
              "<Figure size 640x480 with 1 Axes>"
            ],
            "image/png": "[encoded data removed]"
          },
          "metadata": {}
        }
      ]
    },
    {
      "cell_type": "markdown",
      "source": [
        "# EDA for delayed trains dataset"
      ],
      "metadata": {
        "id": "0fXck9af4nQj"
      }
    },
    {
      "cell_type": "code",
      "source": [
        "# check delay stats\n",
        "delays_df['Delay'].describe()"
      ],
      "metadata": {
        "colab": {
          "base_uri": "https://localhost:8080/",
          "height": 334
        },
        "id": "SSKqh64-GT0M",
        "outputId": "3b9e0a66-10d8-4951-aa5f-50c05d2ab45f"
      },
      "execution_count": 31,
      "outputs": [
        {
          "output_type": "execute_result",
          "data": {
            "text/plain": [
              "count                         2274\n",
              "mean     0 days 00:42:32.849604221\n",
              "std      0 days 00:34:25.290313810\n",
              "min                0 days 00:01:00\n",
              "25%                0 days 00:19:00\n",
              "50%                0 days 00:37:00\n",
              "75%                0 days 00:53:00\n",
              "max                0 days 03:00:00\n",
              "Name: Delay, dtype: object"
            ],
            "text/html": [
              "<div>\n",
              "<style scoped>\n",
              "    .dataframe tbody tr th:only-of-type {\n",
              "        vertical-align: middle;\n",
              "    }\n",
              "\n",
              "    .dataframe tbody tr th {\n",
              "        vertical-align: top;\n",
              "    }\n",
              "\n",
              "    .dataframe thead th {\n",
              "        text-align: right;\n",
              "    }\n",
              "</style>\n",
              "<table border=\"1\" class=\"dataframe\">\n",
              "  <thead>\n",
              "    <tr style=\"text-align: right;\">\n",
              "      <th></th>\n",
              "      <th>Delay</th>\n",
              "    </tr>\n",
              "  </thead>\n",
              "  <tbody>\n",
              "    <tr>\n",
              "      <th>count</th>\n",
              "      <td>2274</td>\n",
              "    </tr>\n",
              "    <tr>\n",
              "      <th>mean</th>\n",
              "      <td>0 days 00:42:32.849604221</td>\n",
              "    </tr>\n",
              "    <tr>\n",
              "      <th>std</th>\n",
              "      <td>0 days 00:34:25.290313810</td>\n",
              "    </tr>\n",
              "    <tr>\n",
              "      <th>min</th>\n",
              "      <td>0 days 00:01:00</td>\n",
              "    </tr>\n",
              "    <tr>\n",
              "      <th>25%</th>\n",
              "      <td>0 days 00:19:00</td>\n",
              "    </tr>\n",
              "    <tr>\n",
              "      <th>50%</th>\n",
              "      <td>0 days 00:37:00</td>\n",
              "    </tr>\n",
              "    <tr>\n",
              "      <th>75%</th>\n",
              "      <td>0 days 00:53:00</td>\n",
              "    </tr>\n",
              "    <tr>\n",
              "      <th>max</th>\n",
              "      <td>0 days 03:00:00</td>\n",
              "    </tr>\n",
              "  </tbody>\n",
              "</table>\n",
              "</div><br><label><b>dtype:</b> object</label>"
            ]
          },
          "metadata": {},
          "execution_count": 31
        }
      ]
    },
    {
      "cell_type": "code",
      "source": [
        "# calculate the median delay\n",
        "delays_df['Delay'].median()"
      ],
      "metadata": {
        "colab": {
          "base_uri": "https://localhost:8080/"
        },
        "id": "KOMIVZHsMJlM",
        "outputId": "5ad40a0c-3f86-4654-859f-d663c657538b"
      },
      "execution_count": 32,
      "outputs": [
        {
          "output_type": "execute_result",
          "data": {
            "text/plain": [
              "Timedelta('0 days 00:37:00')"
            ]
          },
          "metadata": {},
          "execution_count": 32
        }
      ]
    },
    {
      "cell_type": "markdown",
      "source": [
        "**Summary**\n",
        "\n",
        "Out of the total number of rides, only **7.18%** experienced a significant delay (1 minute or more).\n",
        "\n",
        "When looking at just the delayed rides, it is evident that the data is normally distributed with the **average of 42 min 32 sec** and **median of 37 min** which shows us the most delays are under one hour.\n",
        "\n",
        "25% of delays are **less than 19 mins** and 75% of rides are under 53 mins delayed, which means that **the majority of delays did no exceed 1 hour**."
      ],
      "metadata": {
        "id": "D3dk7_hcn_7_"
      }
    },
    {
      "cell_type": "markdown",
      "source": [
        "# Visualisations"
      ],
      "metadata": {
        "id": "oPqQr-2x5Twb"
      }
    },
    {
      "cell_type": "code",
      "source": [
        "# histogram of distribution of delayed train rides\n",
        "plt.hist(delays_df['Delay'].dt.total_seconds() / 60, bins=6, color=sns.color_palette('Accent')[4])\n",
        "plt.xlabel('Delay (minutes)')\n",
        "plt.ylabel('Number of Journeys')\n",
        "plt.title('Distribution of Train Delays')"
      ],
      "metadata": {
        "colab": {
          "base_uri": "https://localhost:8080/",
          "height": 489
        },
        "id": "F1867yGbSVFU",
        "outputId": "6f364817-6fde-43f3-e286-0c6dc60fee8f"
      },
      "execution_count": 33,
      "outputs": [
        {
          "output_type": "execute_result",
          "data": {
            "text/plain": [
              "Text(0.5, 1.0, 'Distribution of Train Delays')"
            ]
          },
          "metadata": {},
          "execution_count": 33
        },
        {
          "output_type": "display_data",
          "data": {
            "text/plain": [
              "<Figure size 640x480 with 1 Axes>"
            ],
            "image/png": "[encoded data removed]"
          },
          "metadata": {}
        }
      ]
    },
    {
      "cell_type": "code",
      "source": [
        "# reasons for delay\n",
        "delays_df['Reason for Delay'].value_counts()"
      ],
      "metadata": {
        "colab": {
          "base_uri": "https://localhost:8080/",
          "height": 272
        },
        "id": "YWyr4A3_uPsC",
        "outputId": "16df3a34-8666-494e-f14b-1367db651bdc"
      },
      "execution_count": 34,
      "outputs": [
        {
          "output_type": "execute_result",
          "data": {
            "text/plain": [
              "Reason for Delay\n",
              "Weather            921\n",
              "Technical Issue    464\n",
              "Signal Failure     451\n",
              "Staff Shortage     352\n",
              "Traffic             86\n",
              "Name: count, dtype: int64"
            ],
            "text/html": [
              "<div>\n",
              "<style scoped>\n",
              "    .dataframe tbody tr th:only-of-type {\n",
              "        vertical-align: middle;\n",
              "    }\n",
              "\n",
              "    .dataframe tbody tr th {\n",
              "        vertical-align: top;\n",
              "    }\n",
              "\n",
              "    .dataframe thead th {\n",
              "        text-align: right;\n",
              "    }\n",
              "</style>\n",
              "<table border=\"1\" class=\"dataframe\">\n",
              "  <thead>\n",
              "    <tr style=\"text-align: right;\">\n",
              "      <th></th>\n",
              "      <th>count</th>\n",
              "    </tr>\n",
              "    <tr>\n",
              "      <th>Reason for Delay</th>\n",
              "      <th></th>\n",
              "    </tr>\n",
              "  </thead>\n",
              "  <tbody>\n",
              "    <tr>\n",
              "      <th>Weather</th>\n",
              "      <td>921</td>\n",
              "    </tr>\n",
              "    <tr>\n",
              "      <th>Technical Issue</th>\n",
              "      <td>464</td>\n",
              "    </tr>\n",
              "    <tr>\n",
              "      <th>Signal Failure</th>\n",
              "      <td>451</td>\n",
              "    </tr>\n",
              "    <tr>\n",
              "      <th>Staff Shortage</th>\n",
              "      <td>352</td>\n",
              "    </tr>\n",
              "    <tr>\n",
              "      <th>Traffic</th>\n",
              "      <td>86</td>\n",
              "    </tr>\n",
              "  </tbody>\n",
              "</table>\n",
              "</div><br><label><b>dtype:</b> int64</label>"
            ]
          },
          "metadata": {},
          "execution_count": 34
        }
      ]
    },
    {
      "cell_type": "code",
      "source": [
        "# bar chart with reasons for delay\n",
        "\n",
        "# Get the counts of each reason for delay\n",
        "reason_counts = delays_df['Reason for Delay'].value_counts().reset_index()\n",
        "reason_counts.columns = ['Reason', 'Count']\n",
        "\n",
        "# Create the bar chart\n",
        "plt.figure(figsize=(10, 6))\n",
        "bars = plt.bar(reason_counts['Reason'], reason_counts['Count'], color=sns.color_palette('Accent')[0])\n",
        "\n",
        "# Add data labels\n",
        "for bar in bars:\n",
        "  yval = bar.get_height()\n",
        "  plt.text(bar.get_x() + bar.get_width()/2, yval + 50, yval, ha='center', va='bottom')\n",
        "\n",
        "plt.xlabel('Reason for Delay')\n",
        "plt.ylabel('Number of Delays')\n",
        "plt.title('What caused the delays?')\n",
        "plt.xticks(rotation=45, ha='right')\n",
        "plt.tight_layout()\n",
        "plt.show()"
      ],
      "metadata": {
        "colab": {
          "base_uri": "https://localhost:8080/",
          "height": 607
        },
        "id": "i_kY2sENVams",
        "outputId": "6f3c9891-62a9-4e21-ddd6-1ed1cb1752f1"
      },
      "execution_count": 35,
      "outputs": [
        {
          "output_type": "display_data",
          "data": {
            "text/plain": [
              "<Figure size 1000x600 with 1 Axes>"
            ],
            "image/png": "[encoded data removed]"
          },
          "metadata": {}
        }
      ]
    },
    {
      "cell_type": "code",
      "source": [
        "delay_percentages = delays_df['Reason for Delay'].value_counts(normalize=True) * 100\n",
        "print(delay_percentages)\n"
      ],
      "metadata": {
        "colab": {
          "base_uri": "https://localhost:8080/"
        },
        "id": "_E3VJYVvJ4TD",
        "outputId": "990264f3-d731-483c-9554-55e17f0d3455"
      },
      "execution_count": 36,
      "outputs": [
        {
          "output_type": "stream",
          "name": "stdout",
          "text": [
            "Reason for Delay\n",
            "Weather            40.501319\n",
            "Technical Issue    20.404573\n",
            "Signal Failure     19.832894\n",
            "Staff Shortage     15.479332\n",
            "Traffic             3.781882\n",
            "Name: proportion, dtype: float64\n"
          ]
        }
      ]
    },
    {
      "cell_type": "markdown",
      "source": [
        "Weather is the most frequent reason for delays (40% of all delays).\n",
        "\n",
        "It is followed by tech issues (20.4%), signal failure (19.8 %) and staff shortages (15.4%). These can be addressed by the railways by improving tech support of trains and the rails, signals and hiring more staff to account for shortages."
      ],
      "metadata": {
        "id": "39uBg_EqJaOf"
      }
    },
    {
      "cell_type": "code",
      "source": [
        "# delays by the time of the day of travel\n",
        "delays_df.groupby('Travel day of week')['Delay'].mean().sort_values(ascending=False)"
      ],
      "metadata": {
        "colab": {
          "base_uri": "https://localhost:8080/",
          "height": 334
        },
        "id": "0auGAVqdBKWL",
        "outputId": "002f1f90-af72-413d-e827-21ca4e189d01"
      },
      "execution_count": 37,
      "outputs": [
        {
          "output_type": "execute_result",
          "data": {
            "text/plain": [
              "Travel day of week\n",
              "Sunday      0 days 00:45:02.980132450\n",
              "Saturday    0 days 00:44:30.208333333\n",
              "Friday      0 days 00:43:47.843137254\n",
              "Wednesday   0 days 00:42:09.850746268\n",
              "Tuesday     0 days 00:41:27.745664739\n",
              "Monday      0 days 00:41:00.769230769\n",
              "Thursday    0 days 00:40:40.831168831\n",
              "Name: Delay, dtype: timedelta64[ns]"
            ],
            "text/html": [
              "<div>\n",
              "<style scoped>\n",
              "    .dataframe tbody tr th:only-of-type {\n",
              "        vertical-align: middle;\n",
              "    }\n",
              "\n",
              "    .dataframe tbody tr th {\n",
              "        vertical-align: top;\n",
              "    }\n",
              "\n",
              "    .dataframe thead th {\n",
              "        text-align: right;\n",
              "    }\n",
              "</style>\n",
              "<table border=\"1\" class=\"dataframe\">\n",
              "  <thead>\n",
              "    <tr style=\"text-align: right;\">\n",
              "      <th></th>\n",
              "      <th>Delay</th>\n",
              "    </tr>\n",
              "    <tr>\n",
              "      <th>Travel day of week</th>\n",
              "      <th></th>\n",
              "    </tr>\n",
              "  </thead>\n",
              "  <tbody>\n",
              "    <tr>\n",
              "      <th>Sunday</th>\n",
              "      <td>0 days 00:45:02.980132450</td>\n",
              "    </tr>\n",
              "    <tr>\n",
              "      <th>Saturday</th>\n",
              "      <td>0 days 00:44:30.208333333</td>\n",
              "    </tr>\n",
              "    <tr>\n",
              "      <th>Friday</th>\n",
              "      <td>0 days 00:43:47.843137254</td>\n",
              "    </tr>\n",
              "    <tr>\n",
              "      <th>Wednesday</th>\n",
              "      <td>0 days 00:42:09.850746268</td>\n",
              "    </tr>\n",
              "    <tr>\n",
              "      <th>Tuesday</th>\n",
              "      <td>0 days 00:41:27.745664739</td>\n",
              "    </tr>\n",
              "    <tr>\n",
              "      <th>Monday</th>\n",
              "      <td>0 days 00:41:00.769230769</td>\n",
              "    </tr>\n",
              "    <tr>\n",
              "      <th>Thursday</th>\n",
              "      <td>0 days 00:40:40.831168831</td>\n",
              "    </tr>\n",
              "  </tbody>\n",
              "</table>\n",
              "</div><br><label><b>dtype:</b> timedelta64[ns]</label>"
            ]
          },
          "metadata": {},
          "execution_count": 37
        }
      ]
    },
    {
      "cell_type": "code",
      "source": [
        "# plot delays by weekday\n",
        "avg_delay = delays_df.groupby('Travel day of week')['Delay'].mean().dt.total_seconds() / 60\n",
        "avg_delay = avg_delay.reindex(['Monday', 'Tuesday', 'Wednesday', 'Thursday', 'Friday', 'Saturday', 'Sunday'])\n",
        "\n",
        "avg_delay.plot(kind='bar', ylabel='Avg Delay (min)', title='Average Delay by Day of Week', color=sns.color_palette('Accent')[2])"
      ],
      "metadata": {
        "colab": {
          "base_uri": "https://localhost:8080/",
          "height": 555
        },
        "id": "DMU3vO-oQh2u",
        "outputId": "8d69612d-4427-486b-faa3-fda52a36455a"
      },
      "execution_count": 38,
      "outputs": [
        {
          "output_type": "execute_result",
          "data": {
            "text/plain": [
              "<Axes: title={'center': 'Average Delay by Day of Week'}, xlabel='Travel day of week', ylabel='Avg Delay (min)'>"
            ]
          },
          "metadata": {},
          "execution_count": 38
        },
        {
          "output_type": "display_data",
          "data": {
            "text/plain": [
              "<Figure size 640x480 with 1 Axes>"
            ],
            "image/png": "[encoded data removed]"
          },
          "metadata": {}
        }
      ]
    },
    {
      "cell_type": "markdown",
      "source": [
        "The above graph shows that **Friday, Saturday and Sunday** tend to have slightly longer delay averages.\n",
        "\n",
        "# Delays by time of the day"
      ],
      "metadata": {
        "id": "wpMnmC_9JXJC"
      }
    },
    {
      "cell_type": "code",
      "source": [
        "# Create a column with just the time (no date)\n",
        "delays_df['Departure Time'] = pd.to_datetime(delays_df['Departure Time'], format='%H:%M:%S').dt.time\n",
        "\n",
        "# Convert to datetime.time\n",
        "delays_df['Departure Minute'] = delays_df['Departure Time'].apply(lambda t: t.hour * 60 + t.minute)\n",
        "\n",
        "# Custom time bins (in minutes)\n",
        "bins = [0, 360, 720, 1080, 1440]  # midnight, 6am, 12pm, 6pm, midnight\n",
        "labels = ['Night', 'Morning', 'Afternoon', 'Evening']\n",
        "\n",
        "delays_df['Time Bin'] = pd.cut(delays_df['Departure Minute'], bins=bins, labels=labels, right=False)\n"
      ],
      "metadata": {
        "id": "kP15SQVEXZzN"
      },
      "execution_count": 39,
      "outputs": []
    },
    {
      "cell_type": "code",
      "source": [
        "delays_df.groupby(['Time Bin'], observed= True)['Delay'].count().sort_values(ascending=False)"
      ],
      "metadata": {
        "colab": {
          "base_uri": "https://localhost:8080/",
          "height": 209
        },
        "id": "6O8t8YMtX7sl",
        "outputId": "1a6eb1f3-b2ce-4e22-f21a-cc73fc8ab40f"
      },
      "execution_count": 40,
      "outputs": [
        {
          "output_type": "execute_result",
          "data": {
            "text/plain": [
              "Time Bin\n",
              "Morning      1330\n",
              "Afternoon     738\n",
              "Night         206\n",
              "Name: Delay, dtype: int64"
            ],
            "text/html": [
              "<div>\n",
              "<style scoped>\n",
              "    .dataframe tbody tr th:only-of-type {\n",
              "        vertical-align: middle;\n",
              "    }\n",
              "\n",
              "    .dataframe tbody tr th {\n",
              "        vertical-align: top;\n",
              "    }\n",
              "\n",
              "    .dataframe thead th {\n",
              "        text-align: right;\n",
              "    }\n",
              "</style>\n",
              "<table border=\"1\" class=\"dataframe\">\n",
              "  <thead>\n",
              "    <tr style=\"text-align: right;\">\n",
              "      <th></th>\n",
              "      <th>Delay</th>\n",
              "    </tr>\n",
              "    <tr>\n",
              "      <th>Time Bin</th>\n",
              "      <th></th>\n",
              "    </tr>\n",
              "  </thead>\n",
              "  <tbody>\n",
              "    <tr>\n",
              "      <th>Morning</th>\n",
              "      <td>1330</td>\n",
              "    </tr>\n",
              "    <tr>\n",
              "      <th>Afternoon</th>\n",
              "      <td>738</td>\n",
              "    </tr>\n",
              "    <tr>\n",
              "      <th>Night</th>\n",
              "      <td>206</td>\n",
              "    </tr>\n",
              "  </tbody>\n",
              "</table>\n",
              "</div><br><label><b>dtype:</b> int64</label>"
            ]
          },
          "metadata": {},
          "execution_count": 40
        }
      ]
    },
    {
      "cell_type": "code",
      "source": [
        "# heatmap delay frequency by day of week and time of the day(morning, afternoon, evening and night)\n",
        "\n",
        "# Aggregate data to get delay frequency by day of week and time bin\n",
        "delay_frequency = delays_df.groupby(['Travel day of week', 'Time Bin'], observed=False).size().unstack(fill_value=0)\n",
        "\n",
        "# Define the order of the days of the week and time bins for plotting\n",
        "day_order = ['Monday', 'Tuesday', 'Wednesday', 'Thursday', 'Friday', 'Saturday', 'Sunday']\n",
        "time_bin_order = ['Night', 'Morning', 'Afternoon', 'Evening']\n",
        "\n",
        "# Reindex the dataframe to ensure the correct order\n",
        "delay_frequency = delay_frequency.reindex(index=day_order, columns=time_bin_order)\n",
        "\n",
        "# Create the heatmap\n",
        "plt.figure(figsize=(10, 7))\n",
        "sns.heatmap(delay_frequency, annot=True, fmt='d', cmap='BuPu')\n",
        "\n",
        "plt.title('Delay Frequency by Day of Week and Time of Day')\n",
        "plt.xlabel('Time of Day')\n",
        "plt.ylabel('Day of Week')\n",
        "plt.show()\n"
      ],
      "metadata": {
        "colab": {
          "base_uri": "https://localhost:8080/",
          "height": 641
        },
        "id": "ZrDe3at3XegY",
        "outputId": "4e135580-8fb9-483d-9189-ab27d1fb750b"
      },
      "execution_count": 41,
      "outputs": [
        {
          "output_type": "display_data",
          "data": {
            "text/plain": [
              "<Figure size 1000x700 with 2 Axes>"
            ],
            "image/png": "[encoded data removed]"
          },
          "metadata": {}
        }
      ]
    },
    {
      "cell_type": "markdown",
      "source": [
        "The most critical times when the trains are delayed are **Wednesday and Thursday mornings**.\n",
        "\n",
        "# Routes with most delays"
      ],
      "metadata": {
        "id": "Bzv83DO6H-95"
      }
    },
    {
      "cell_type": "code",
      "source": [
        "# average delay by route to identify the routes most affected by delays\n",
        "delays_df.groupby('Route')['Delay'].mean().sort_values(ascending=False)"
      ],
      "metadata": {
        "colab": {
          "base_uri": "https://localhost:8080/",
          "height": 679
        },
        "id": "4V5tA4OeuasN",
        "outputId": "3004cc7a-bd48-4499-d455-9517173bf159"
      },
      "execution_count": 42,
      "outputs": [
        {
          "output_type": "execute_result",
          "data": {
            "text/plain": [
              "Route\n",
              "Manchester Piccadilly - Leeds                      0 days 02:23:44.062500\n",
              "York - Doncaster                                0 days 01:08:55.555555555\n",
              "Manchester Piccadilly - Liverpool Lime Street   0 days 01:07:46.666666666\n",
              "London Euston - Birmingham New Street           0 days 00:54:57.520661157\n",
              "Manchester Piccadilly - Nottingham              0 days 00:53:47.142857142\n",
              "Liverpool Lime Street - London Paddington       0 days 00:38:23.076923076\n",
              "Liverpool Lime Street - London Euston           0 days 00:36:46.005154639\n",
              "London Euston - York                            0 days 00:36:21.176470588\n",
              "London Paddington - Reading                     0 days 00:35:37.272727272\n",
              "Birmingham New Street - London Euston           0 days 00:31:53.023255813\n",
              "York - Durham                                      0 days 00:30:26.250000\n",
              "Birmingham New Street - Manchester Piccadilly             0 days 00:26:24\n",
              "Manchester Piccadilly - London Euston           0 days 00:24:44.358974358\n",
              "Liverpool Lime Street - Manchester Piccadilly   0 days 00:21:49.906542056\n",
              "Oxford - Bristol Temple Meads                             0 days 00:19:16\n",
              "London Kings Cross - York                       0 days 00:16:20.465116279\n",
              "Edinburgh Waverley - London Kings Cross         0 days 00:15:16.470588235\n",
              "York - Wakefield                                0 days 00:13:08.571428571\n",
              "Name: Delay, dtype: timedelta64[ns]"
            ],
            "text/html": [
              "<div>\n",
              "<style scoped>\n",
              "    .dataframe tbody tr th:only-of-type {\n",
              "        vertical-align: middle;\n",
              "    }\n",
              "\n",
              "    .dataframe tbody tr th {\n",
              "        vertical-align: top;\n",
              "    }\n",
              "\n",
              "    .dataframe thead th {\n",
              "        text-align: right;\n",
              "    }\n",
              "</style>\n",
              "<table border=\"1\" class=\"dataframe\">\n",
              "  <thead>\n",
              "    <tr style=\"text-align: right;\">\n",
              "      <th></th>\n",
              "      <th>Delay</th>\n",
              "    </tr>\n",
              "    <tr>\n",
              "      <th>Route</th>\n",
              "      <th></th>\n",
              "    </tr>\n",
              "  </thead>\n",
              "  <tbody>\n",
              "    <tr>\n",
              "      <th>Manchester Piccadilly - Leeds</th>\n",
              "      <td>0 days 02:23:44.062500</td>\n",
              "    </tr>\n",
              "    <tr>\n",
              "      <th>York - Doncaster</th>\n",
              "      <td>0 days 01:08:55.555555555</td>\n",
              "    </tr>\n",
              "    <tr>\n",
              "      <th>Manchester Piccadilly - Liverpool Lime Street</th>\n",
              "      <td>0 days 01:07:46.666666666</td>\n",
              "    </tr>\n",
              "    <tr>\n",
              "      <th>London Euston - Birmingham New Street</th>\n",
              "      <td>0 days 00:54:57.520661157</td>\n",
              "    </tr>\n",
              "    <tr>\n",
              "      <th>Manchester Piccadilly - Nottingham</th>\n",
              "      <td>0 days 00:53:47.142857142</td>\n",
              "    </tr>\n",
              "    <tr>\n",
              "      <th>Liverpool Lime Street - London Paddington</th>\n",
              "      <td>0 days 00:38:23.076923076</td>\n",
              "    </tr>\n",
              "    <tr>\n",
              "      <th>Liverpool Lime Street - London Euston</th>\n",
              "      <td>0 days 00:36:46.005154639</td>\n",
              "    </tr>\n",
              "    <tr>\n",
              "      <th>London Euston - York</th>\n",
              "      <td>0 days 00:36:21.176470588</td>\n",
              "    </tr>\n",
              "    <tr>\n",
              "      <th>London Paddington - Reading</th>\n",
              "      <td>0 days 00:35:37.272727272</td>\n",
              "    </tr>\n",
              "    <tr>\n",
              "      <th>Birmingham New Street - London Euston</th>\n",
              "      <td>0 days 00:31:53.023255813</td>\n",
              "    </tr>\n",
              "    <tr>\n",
              "      <th>York - Durham</th>\n",
              "      <td>0 days 00:30:26.250000</td>\n",
              "    </tr>\n",
              "    <tr>\n",
              "      <th>Birmingham New Street - Manchester Piccadilly</th>\n",
              "      <td>0 days 00:26:24</td>\n",
              "    </tr>\n",
              "    <tr>\n",
              "      <th>Manchester Piccadilly - London Euston</th>\n",
              "      <td>0 days 00:24:44.358974358</td>\n",
              "    </tr>\n",
              "    <tr>\n",
              "      <th>Liverpool Lime Street - Manchester Piccadilly</th>\n",
              "      <td>0 days 00:21:49.906542056</td>\n",
              "    </tr>\n",
              "    <tr>\n",
              "      <th>Oxford - Bristol Temple Meads</th>\n",
              "      <td>0 days 00:19:16</td>\n",
              "    </tr>\n",
              "    <tr>\n",
              "      <th>London Kings Cross - York</th>\n",
              "      <td>0 days 00:16:20.465116279</td>\n",
              "    </tr>\n",
              "    <tr>\n",
              "      <th>Edinburgh Waverley - London Kings Cross</th>\n",
              "      <td>0 days 00:15:16.470588235</td>\n",
              "    </tr>\n",
              "    <tr>\n",
              "      <th>York - Wakefield</th>\n",
              "      <td>0 days 00:13:08.571428571</td>\n",
              "    </tr>\n",
              "  </tbody>\n",
              "</table>\n",
              "</div><br><label><b>dtype:</b> timedelta64[ns]</label>"
            ]
          },
          "metadata": {},
          "execution_count": 42
        }
      ]
    },
    {
      "cell_type": "markdown",
      "source": [
        "**3 routes** are affected by delays that are longer than 1 hr on average.\n",
        "\n",
        "The route *'London Euston - Birmingham New Street'* is also **2nd most popular** route in the country."
      ],
      "metadata": {
        "id": "cEFZgMuaInJI"
      }
    },
    {
      "cell_type": "code",
      "source": [
        "# bar chart of which route experience longest delays on average\n",
        "\n",
        "# Group by route and calculate the average delay\n",
        "avg_delay_by_route = delays_df.groupby('Route')['Delay'].mean().dt.total_seconds() / 60\n",
        "\n",
        "# Select the top N routes with the longest average delays\n",
        "top_n_routes = avg_delay_by_route.sort_values(ascending=False).head(5)\n",
        "\n",
        "# Create the bar chart\n",
        "plt.figure(figsize=(8, 7))\n",
        "top_n_routes.plot(kind='bar', color=sns.color_palette('Accent')[3])\n",
        "\n",
        "\n",
        "plt.xlabel('Route')\n",
        "plt.ylabel('Average Delay (minutes)')\n",
        "plt.title('Top Routes with Longest Average Delays')\n",
        "plt.xticks(rotation=45, ha='right')\n",
        "plt.tight_layout()\n",
        "plt.show()"
      ],
      "metadata": {
        "colab": {
          "base_uri": "https://localhost:8080/",
          "height": 707
        },
        "id": "esQmKa85JBbP",
        "outputId": "c83f3007-ceaa-4b2e-f79c-77b664ccb3e4"
      },
      "execution_count": 43,
      "outputs": [
        {
          "output_type": "display_data",
          "data": {
            "text/plain": [
              "<Figure size 800x700 with 1 Axes>"
            ],
            "image/png": "[encoded data removed]"
          },
          "metadata": {}
        }
      ]
    },
    {
      "cell_type": "code",
      "source": [
        "#how total delays change over time(weekly)\n",
        "\n",
        "# Set 'Travel datetime' as the index for resampling\n",
        "delays_df.set_index('Actual arrival datetime', inplace=True)\n",
        "\n",
        "# Resample weekly (resample W) and sum the delays\n",
        "weekly_delay = delays_df['Delay'].resample('W').sum()\n",
        "\n",
        "# Plot the weekly total delay\n",
        "plt.figure(figsize=(12, 6))\n",
        "weekly_delay.plot(kind='line', marker='o', linestyle='-')\n",
        "plt.title('Total Delays Over Time (Weekly)')\n",
        "plt.xlabel('Week')\n",
        "plt.ylabel('Total Delay (minutes)')\n",
        "plt.grid(True)\n",
        "plt.show()"
      ],
      "metadata": {
        "colab": {
          "base_uri": "https://localhost:8080/",
          "height": 580
        },
        "id": "th6UNazsJCMh",
        "outputId": "139e38a2-d64f-4128-f85c-6d67ecc0efc0"
      },
      "execution_count": 63,
      "outputs": [
        {
          "output_type": "display_data",
          "data": {
            "text/plain": [
              "<Figure size 1200x600 with 1 Axes>"
            ],
            "image/png": "[encoded data removed]"
          },
          "metadata": {}
        }
      ]
    },
    {
      "cell_type": "code",
      "source": [
        "# checking the last datapoints in the dataset to check if May data is in there (because May appears on the graph)\n",
        "delays_df['Travel datetime'].tail(15)"
      ],
      "metadata": {
        "colab": {
          "base_uri": "https://localhost:8080/",
          "height": 554
        },
        "id": "aL_ETV5tNbUj",
        "outputId": "27fdf963-6269-4ae9-eec6-4cb765bf0cab"
      },
      "execution_count": 59,
      "outputs": [
        {
          "output_type": "execute_result",
          "data": {
            "text/plain": [
              "31307   2024-04-30 05:45:00\n",
              "31336   2024-04-30 08:00:00\n",
              "31337   2024-04-29 11:00:00\n",
              "31346   2024-04-30 09:00:00\n",
              "31404   2024-04-29 15:30:00\n",
              "31405   2024-04-29 15:30:00\n",
              "31427   2024-04-29 17:45:00\n",
              "31428   2024-04-29 17:45:00\n",
              "31430   2024-04-29 17:45:00\n",
              "31542   2024-04-30 03:30:00\n",
              "31578   2024-04-30 08:00:00\n",
              "31594   2024-04-30 11:00:00\n",
              "31597   2024-04-30 11:00:00\n",
              "31599   2024-04-30 11:15:00\n",
              "31637   2024-04-30 17:30:00\n",
              "Name: Travel datetime, dtype: datetime64[ns]"
            ],
            "text/html": [
              "<div>\n",
              "<style scoped>\n",
              "    .dataframe tbody tr th:only-of-type {\n",
              "        vertical-align: middle;\n",
              "    }\n",
              "\n",
              "    .dataframe tbody tr th {\n",
              "        vertical-align: top;\n",
              "    }\n",
              "\n",
              "    .dataframe thead th {\n",
              "        text-align: right;\n",
              "    }\n",
              "</style>\n",
              "<table border=\"1\" class=\"dataframe\">\n",
              "  <thead>\n",
              "    <tr style=\"text-align: right;\">\n",
              "      <th></th>\n",
              "      <th>Travel datetime</th>\n",
              "    </tr>\n",
              "  </thead>\n",
              "  <tbody>\n",
              "    <tr>\n",
              "      <th>31307</th>\n",
              "      <td>2024-04-30 05:45:00</td>\n",
              "    </tr>\n",
              "    <tr>\n",
              "      <th>31336</th>\n",
              "      <td>2024-04-30 08:00:00</td>\n",
              "    </tr>\n",
              "    <tr>\n",
              "      <th>31337</th>\n",
              "      <td>2024-04-29 11:00:00</td>\n",
              "    </tr>\n",
              "    <tr>\n",
              "      <th>31346</th>\n",
              "      <td>2024-04-30 09:00:00</td>\n",
              "    </tr>\n",
              "    <tr>\n",
              "      <th>31404</th>\n",
              "      <td>2024-04-29 15:30:00</td>\n",
              "    </tr>\n",
              "    <tr>\n",
              "      <th>31405</th>\n",
              "      <td>2024-04-29 15:30:00</td>\n",
              "    </tr>\n",
              "    <tr>\n",
              "      <th>31427</th>\n",
              "      <td>2024-04-29 17:45:00</td>\n",
              "    </tr>\n",
              "    <tr>\n",
              "      <th>31428</th>\n",
              "      <td>2024-04-29 17:45:00</td>\n",
              "    </tr>\n",
              "    <tr>\n",
              "      <th>31430</th>\n",
              "      <td>2024-04-29 17:45:00</td>\n",
              "    </tr>\n",
              "    <tr>\n",
              "      <th>31542</th>\n",
              "      <td>2024-04-30 03:30:00</td>\n",
              "    </tr>\n",
              "    <tr>\n",
              "      <th>31578</th>\n",
              "      <td>2024-04-30 08:00:00</td>\n",
              "    </tr>\n",
              "    <tr>\n",
              "      <th>31594</th>\n",
              "      <td>2024-04-30 11:00:00</td>\n",
              "    </tr>\n",
              "    <tr>\n",
              "      <th>31597</th>\n",
              "      <td>2024-04-30 11:00:00</td>\n",
              "    </tr>\n",
              "    <tr>\n",
              "      <th>31599</th>\n",
              "      <td>2024-04-30 11:15:00</td>\n",
              "    </tr>\n",
              "    <tr>\n",
              "      <th>31637</th>\n",
              "      <td>2024-04-30 17:30:00</td>\n",
              "    </tr>\n",
              "  </tbody>\n",
              "</table>\n",
              "</div><br><label><b>dtype:</b> datetime64[ns]</label>"
            ]
          },
          "metadata": {},
          "execution_count": 59
        }
      ]
    },
    {
      "cell_type": "code",
      "source": [
        "# count of refund requests in the delayed rides dataset\n",
        "delays_df['Refund Request'].value_counts()"
      ],
      "metadata": {
        "colab": {
          "base_uri": "https://localhost:8080/",
          "height": 178
        },
        "id": "x7wt9sVgfN53",
        "outputId": "a9cc4310-b46f-4cb6-f113-9b249652acd9"
      },
      "execution_count": 46,
      "outputs": [
        {
          "output_type": "execute_result",
          "data": {
            "text/plain": [
              "Refund Request\n",
              "0    1736\n",
              "1     538\n",
              "Name: count, dtype: int64"
            ],
            "text/html": [
              "<div>\n",
              "<style scoped>\n",
              "    .dataframe tbody tr th:only-of-type {\n",
              "        vertical-align: middle;\n",
              "    }\n",
              "\n",
              "    .dataframe tbody tr th {\n",
              "        vertical-align: top;\n",
              "    }\n",
              "\n",
              "    .dataframe thead th {\n",
              "        text-align: right;\n",
              "    }\n",
              "</style>\n",
              "<table border=\"1\" class=\"dataframe\">\n",
              "  <thead>\n",
              "    <tr style=\"text-align: right;\">\n",
              "      <th></th>\n",
              "      <th>count</th>\n",
              "    </tr>\n",
              "    <tr>\n",
              "      <th>Refund Request</th>\n",
              "      <th></th>\n",
              "    </tr>\n",
              "  </thead>\n",
              "  <tbody>\n",
              "    <tr>\n",
              "      <th>0</th>\n",
              "      <td>1736</td>\n",
              "    </tr>\n",
              "    <tr>\n",
              "      <th>1</th>\n",
              "      <td>538</td>\n",
              "    </tr>\n",
              "  </tbody>\n",
              "</table>\n",
              "</div><br><label><b>dtype:</b> int64</label>"
            ]
          },
          "metadata": {},
          "execution_count": 46
        }
      ]
    },
    {
      "cell_type": "code",
      "source": [
        "# percentage of users that requested a refund\n",
        "refund_perc = delays_df['Refund Request'].value_counts(normalize=True) * 100\n",
        "print(refund_perc)"
      ],
      "metadata": {
        "colab": {
          "base_uri": "https://localhost:8080/"
        },
        "id": "jBcqAI85wvh8",
        "outputId": "d3042df7-1459-4b4c-cab2-e4688b8148d0"
      },
      "execution_count": 69,
      "outputs": [
        {
          "output_type": "stream",
          "name": "stdout",
          "text": [
            "Refund Request\n",
            "0    76.341249\n",
            "1    23.658751\n",
            "Name: proportion, dtype: float64\n"
          ]
        }
      ]
    },
    {
      "cell_type": "markdown",
      "source": [
        "Just **under 24%** of delayed rides resulted in refund request from passengers."
      ],
      "metadata": {
        "id": "g4wkma1kyuMa"
      }
    },
    {
      "cell_type": "code",
      "source": [
        "# to better represent the length of delay, I will create a column with bins\n",
        "# ('Under 30 mins', '31-60 mins', '1-2 hrs', 'More than 2 hrs')\n",
        "delays_df['Delay_minutes'] = delays_df['Delay'].dt.total_seconds() / 60\n",
        "\n",
        "# Define delay duration bins\n",
        "delay_bins = [0, 30, 60, 120, delays_df['Delay_minutes'].max()]\n",
        "delay_labels = ['Under 30 mins', '31-60 mins', '1-2 hrs', 'More than 2 hrs']\n",
        "\n",
        "# Create a new column with delay duration bins\n",
        "delays_df['Delay_Duration_Bin'] = pd.cut(delays_df['Delay_minutes'], bins=delay_bins, labels=delay_labels, right=True)\n"
      ],
      "metadata": {
        "id": "n7MJ-uEugteN"
      },
      "execution_count": 47,
      "outputs": []
    },
    {
      "cell_type": "code",
      "source": [
        "# what do requests look like by length of delay\n",
        "delays_df.groupby(['Delay_Duration_Bin'], observed = False)['Refund Request'].sum()"
      ],
      "metadata": {
        "colab": {
          "base_uri": "https://localhost:8080/",
          "height": 240
        },
        "id": "T4qiz_bMf5TZ",
        "outputId": "c399c9ba-f83b-484b-8094-38d5be682ebe"
      },
      "execution_count": 75,
      "outputs": [
        {
          "output_type": "execute_result",
          "data": {
            "text/plain": [
              "Delay_Duration_Bin\n",
              "Under 30 mins      431\n",
              "31-60 mins         107\n",
              "1-2 hrs              0\n",
              "More than 2 hrs      0\n",
              "Name: Refund Request, dtype: int64"
            ],
            "text/html": [
              "<div>\n",
              "<style scoped>\n",
              "    .dataframe tbody tr th:only-of-type {\n",
              "        vertical-align: middle;\n",
              "    }\n",
              "\n",
              "    .dataframe tbody tr th {\n",
              "        vertical-align: top;\n",
              "    }\n",
              "\n",
              "    .dataframe thead th {\n",
              "        text-align: right;\n",
              "    }\n",
              "</style>\n",
              "<table border=\"1\" class=\"dataframe\">\n",
              "  <thead>\n",
              "    <tr style=\"text-align: right;\">\n",
              "      <th></th>\n",
              "      <th>Refund Request</th>\n",
              "    </tr>\n",
              "    <tr>\n",
              "      <th>Delay_Duration_Bin</th>\n",
              "      <th></th>\n",
              "    </tr>\n",
              "  </thead>\n",
              "  <tbody>\n",
              "    <tr>\n",
              "      <th>Under 30 mins</th>\n",
              "      <td>431</td>\n",
              "    </tr>\n",
              "    <tr>\n",
              "      <th>31-60 mins</th>\n",
              "      <td>107</td>\n",
              "    </tr>\n",
              "    <tr>\n",
              "      <th>1-2 hrs</th>\n",
              "      <td>0</td>\n",
              "    </tr>\n",
              "    <tr>\n",
              "      <th>More than 2 hrs</th>\n",
              "      <td>0</td>\n",
              "    </tr>\n",
              "  </tbody>\n",
              "</table>\n",
              "</div><br><label><b>dtype:</b> int64</label>"
            ]
          },
          "metadata": {},
          "execution_count": 75
        }
      ]
    },
    {
      "cell_type": "code",
      "source": [
        "# a stacked bar chart to illustrate refund requests by delay duration\n",
        "\n",
        "# Aggregate the data for the stacked bar chart\n",
        "refund_requests_by_delay_bin = delays_df.groupby('Delay_Duration_Bin', observed = False)['Refund Request'].value_counts().unstack(fill_value=0)\n",
        "\n",
        "# Rename columns for clarity\n",
        "refund_requests_by_delay_bin.columns = ['No Refund Request', 'Refund Request']\n",
        "\n",
        "# set the order of bins\n",
        "delay_bin_order = ['Under 30 mins', '31-60 mins', '1-2 hrs', 'More than 2 hrs']\n",
        "refund_requests_by_delay_bin = refund_requests_by_delay_bin.reindex(delay_bin_order)\n",
        "\n",
        "# Create the stacked bar chart\n",
        "plt.figure(figsize=(10, 6))\n",
        "refund_requests_by_delay_bin.plot(kind='bar', stacked=True, color=sns.color_palette('Accent', 2))\n",
        "\n",
        "plt.title('How many refund requests were filed depending on delay duration?')\n",
        "plt.xlabel('Delay Duration')\n",
        "plt.ylabel('Number of Requests')\n",
        "plt.xticks(rotation=0)\n",
        "plt.legend(title='Refund Request Status')\n",
        "plt.tight_layout()\n",
        "plt.show()"
      ],
      "metadata": {
        "colab": {
          "base_uri": "https://localhost:8080/",
          "height": 504
        },
        "id": "f6NvddODObuj",
        "outputId": "0e0e5594-1187-4999-f98b-d3420df0d3da"
      },
      "execution_count": 77,
      "outputs": [
        {
          "output_type": "display_data",
          "data": {
            "text/plain": [
              "<Figure size 1000x600 with 0 Axes>"
            ]
          },
          "metadata": {}
        },
        {
          "output_type": "display_data",
          "data": {
            "text/plain": [
              "<Figure size 640x480 with 1 Axes>"
            ],
            "image/png": "[encoded data removed]"
          },
          "metadata": {}
        }
      ]
    }
  ]
}